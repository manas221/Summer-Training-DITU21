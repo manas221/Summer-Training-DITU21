{
 "cells": [
  {
   "cell_type": "code",
   "execution_count": 5,
   "id": "62539318",
   "metadata": {},
   "outputs": [
    {
     "data": {
      "text/plain": [
       "4"
      ]
     },
     "execution_count": 5,
     "metadata": {},
     "output_type": "execute_result"
    }
   ],
   "source": [
    "abs(-4)"
   ]
  },
  {
   "cell_type": "code",
   "execution_count": 9,
   "id": "ce59c19d",
   "metadata": {},
   "outputs": [
    {
     "data": {
      "text/plain": [
       "range(1, 10)"
      ]
     },
     "execution_count": 9,
     "metadata": {},
     "output_type": "execute_result"
    }
   ],
   "source": [
    "range(1 ,10)"
   ]
  },
  {
   "cell_type": "code",
   "execution_count": 14,
   "id": "ddacbd99",
   "metadata": {},
   "outputs": [
    {
     "data": {
      "text/plain": [
       "'(4 * 5) - (2/3)'"
      ]
     },
     "metadata": {},
     "output_type": "display_data"
    },
    {
     "data": {
      "text/latex": [
       "$\\displaystyle (4 * 5) - (2/3)$"
      ],
      "text/plain": [
       "<IPython.core.display.Math object>"
      ]
     },
     "metadata": {},
     "output_type": "display_data"
    }
   ],
   "source": [
    "from IPython.display import display ,Math\n",
    "expr = '(4 * 5) - (2/3)'\n",
    "display(expr)\n",
    "display(Math(expr))"
   ]
  },
  {
   "cell_type": "code",
   "execution_count": 16,
   "id": "d0010afc",
   "metadata": {},
   "outputs": [
    {
     "data": {
      "text/latex": [
       "$\\displaystyle e^3$"
      ],
      "text/plain": [
       "<IPython.core.display.Math object>"
      ]
     },
     "metadata": {},
     "output_type": "display_data"
    }
   ],
   "source": [
    "expr2 = \"e^3\"\n",
    "display(Math(expr2))"
   ]
  },
  {
   "cell_type": "code",
   "execution_count": 19,
   "id": "3fe9ccc5",
   "metadata": {},
   "outputs": [
    {
     "data": {
      "text/latex": [
       "$\\displaystyle \\frac{45}{7} = 0.8$"
      ],
      "text/plain": [
       "<IPython.core.display.Math object>"
      ]
     },
     "metadata": {},
     "output_type": "display_data"
    }
   ],
   "source": [
    "exp3 = '\\\\frac{45}{7} = '\n",
    "\n",
    "display(Math(exp3 + str(4/5)))"
   ]
  },
  {
   "cell_type": "code",
   "execution_count": 33,
   "id": "8b132822",
   "metadata": {},
   "outputs": [
    {
     "data": {
      "text/latex": [
       "$\\displaystyle 9 + 10 = 19$"
      ],
      "text/plain": [
       "<IPython.core.display.Math object>"
      ]
     },
     "metadata": {},
     "output_type": "display_data"
    }
   ],
   "source": [
    "x = 9\n",
    "y = 10\n",
    "display(Math(\"%g + %g = %g\" %(x ,y ,x+y)))"
   ]
  },
  {
   "cell_type": "code",
   "execution_count": 50,
   "id": "6af41c97",
   "metadata": {},
   "outputs": [
    {
     "data": {
      "text/latex": [
       "$\\displaystyle 5^{3/4} \\times 4^{5.1} = 3933.086147822751$"
      ],
      "text/plain": [
       "<IPython.core.display.Math object>"
      ]
     },
     "metadata": {},
     "output_type": "display_data"
    }
   ],
   "source": [
    "x = 5\n",
    "y = 5.1\n",
    "z = 3/4\n",
    "\n",
    "#1\n",
    "exp1 = x**z * 4**y\n",
    "display(Math(\"%g^{3/4} \\\\times 4^{%g} = \" %(x ,y) + str(exp1) ))"
   ]
  },
  {
   "cell_type": "code",
   "execution_count": 54,
   "id": "74484e30",
   "metadata": {},
   "outputs": [
    {
     "data": {
      "text/latex": [
       "$\\displaystyle \\frac{3^3}{5^{5.1}} = 0.00735558$"
      ],
      "text/plain": [
       "<IPython.core.display.Math object>"
      ]
     },
     "metadata": {},
     "output_type": "display_data"
    }
   ],
   "source": [
    "exp2 = (3**3)/(x**y)\n",
    "display(Math(\"\\\\frac{3^3}{%g^{%g}} = %g\" %(x ,y ,exp2)))"
   ]
  },
  {
   "cell_type": "code",
   "execution_count": 56,
   "id": "d7425a23",
   "metadata": {},
   "outputs": [
    {
     "data": {
      "text/latex": [
       "$\\displaystyle 10^{5-4} = 10$"
      ],
      "text/plain": [
       "<IPython.core.display.Math object>"
      ]
     },
     "metadata": {},
     "output_type": "display_data"
    }
   ],
   "source": [
    "exp3 = 10**(x-4)\n",
    "display(Math(\"10^{%g-4} = %g\" %(x ,exp3)))"
   ]
  },
  {
   "cell_type": "code",
   "execution_count": null,
   "id": "2628bcae",
   "metadata": {},
   "outputs": [],
   "source": []
  }
 ],
 "metadata": {
  "kernelspec": {
   "display_name": "Python 3",
   "language": "python",
   "name": "python3"
  },
  "language_info": {
   "codemirror_mode": {
    "name": "ipython",
    "version": 3
   },
   "file_extension": ".py",
   "mimetype": "text/x-python",
   "name": "python",
   "nbconvert_exporter": "python",
   "pygments_lexer": "ipython3",
   "version": "3.8.8"
  }
 },
 "nbformat": 4,
 "nbformat_minor": 5
}
