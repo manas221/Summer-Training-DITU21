{
 "cells": [
  {
   "cell_type": "code",
   "execution_count": 5,
   "id": "62539318",
   "metadata": {},
   "outputs": [
    {
     "data": {
      "text/plain": [
       "4"
      ]
     },
     "execution_count": 5,
     "metadata": {},
     "output_type": "execute_result"
    }
   ],
   "source": [
    "abs(-4)"
   ]
  },
  {
   "cell_type": "code",
   "execution_count": 9,
   "id": "ce59c19d",
   "metadata": {},
   "outputs": [
    {
     "data": {
      "text/plain": [
       "range(1, 10)"
      ]
     },
     "execution_count": 9,
     "metadata": {},
     "output_type": "execute_result"
    }
   ],
   "source": [
    "range(1 ,10)"
   ]
  },
  {
   "cell_type": "code",
   "execution_count": 12,
   "id": "ddacbd99",
   "metadata": {},
   "outputs": [
    {
     "data": {
      "text/plain": [
       "'(4 * 5) - (2/3)'"
      ]
     },
     "metadata": {},
     "output_type": "display_data"
    },
    {
     "data": {
      "text/latex": [
       "$\\displaystyle (4 * 5) - (2/3)$"
      ],
      "text/plain": [
       "<IPython.core.display.Math object>"
      ]
     },
     "metadata": {},
     "output_type": "display_data"
    }
   ],
   "source": [
    "from IPython.display import display ,Math\n",
    "expr = '(4 * 5) - (2/3)'\n",
    "display(expr)\n",
    "display(Math(expr))"
   ]
  },
  {
   "cell_type": "code",
   "execution_count": 16,
   "id": "d0010afc",
   "metadata": {},
   "outputs": [
    {
     "data": {
      "text/latex": [
       "$\\displaystyle e^3$"
      ],
      "text/plain": [
       "<IPython.core.display.Math object>"
      ]
     },
     "metadata": {},
     "output_type": "display_data"
    }
   ],
   "source": [
    "expr2 = \"e^3\"\n",
    "display(Math(expr2))"
   ]
  },
  {
   "cell_type": "code",
   "execution_count": 19,
   "id": "3fe9ccc5",
   "metadata": {},
   "outputs": [
    {
     "data": {
      "text/latex": [
       "$\\displaystyle \\frac{45}{7} = 0.8$"
      ],
      "text/plain": [
       "<IPython.core.display.Math object>"
      ]
     },
     "metadata": {},
     "output_type": "display_data"
    }
   ],
   "source": [
    "exp3 = '\\\\frac{45}{7} = '\n",
    "\n",
    "display(Math(exp3 + str(4/5)))"
   ]
  },
  {
   "cell_type": "code",
   "execution_count": 33,
   "id": "8b132822",
   "metadata": {},
   "outputs": [
    {
     "data": {
      "text/latex": [
       "$\\displaystyle 9 + 10 = 19$"
      ],
      "text/plain": [
       "<IPython.core.display.Math object>"
      ]
     },
     "metadata": {},
     "output_type": "display_data"
    }
   ],
   "source": [
    "x = 9\n",
    "y = 10\n",
    "display(Math(\"%g + %g = %g\" %(x ,y ,x+y)))"
   ]
  },
  {
   "cell_type": "code",
   "execution_count": 50,
   "id": "6af41c97",
   "metadata": {},
   "outputs": [
    {
     "data": {
      "text/latex": [
       "$\\displaystyle 5^{3/4} \\times 4^{5.1} = 3933.086147822751$"
      ],
      "text/plain": [
       "<IPython.core.display.Math object>"
      ]
     },
     "metadata": {},
     "output_type": "display_data"
    }
   ],
   "source": [
    "x = 5\n",
    "y = 5.1\n",
    "z = 3/4\n",
    "\n",
    "#1\n",
    "exp1 = x**z * 4**y\n",
    "display(Math(\"%g^{3/4} \\\\times 4^{%g} = \" %(x ,y) + str(exp1) ))"
   ]
  },
  {
   "cell_type": "code",
   "execution_count": 54,
   "id": "74484e30",
   "metadata": {},
   "outputs": [
    {
     "data": {
      "text/latex": [
       "$\\displaystyle \\frac{3^3}{5^{5.1}} = 0.00735558$"
      ],
      "text/plain": [
       "<IPython.core.display.Math object>"
      ]
     },
     "metadata": {},
     "output_type": "display_data"
    }
   ],
   "source": [
    "exp2 = (3**3)/(x**y)\n",
    "display(Math(\"\\\\frac{3^3}{%g^{%g}} = %g\" %(x ,y ,exp2)))"
   ]
  },
  {
   "cell_type": "code",
   "execution_count": 56,
   "id": "d7425a23",
   "metadata": {},
   "outputs": [
    {
     "data": {
      "text/latex": [
       "$\\displaystyle 10^{5-4} = 10$"
      ],
      "text/plain": [
       "<IPython.core.display.Math object>"
      ]
     },
     "metadata": {},
     "output_type": "display_data"
    }
   ],
   "source": [
    "exp3 = 10**(x-4)\n",
    "display(Math(\"10^{%g-4} = %g\" %(x ,exp3)))"
   ]
  },
  {
   "cell_type": "code",
   "execution_count": 4,
   "id": "2628bcae",
   "metadata": {},
   "outputs": [
    {
     "data": {
      "text/plain": [
       "121"
      ]
     },
     "execution_count": 4,
     "metadata": {},
     "output_type": "execute_result"
    }
   ],
   "source": [
    "40+ 9 *9"
   ]
  },
  {
   "cell_type": "code",
   "execution_count": 9,
   "id": "e572489d",
   "metadata": {},
   "outputs": [
    {
     "name": "stdout",
     "output_type": "stream",
     "text": [
      "<class 'bool'>\n"
     ]
    }
   ],
   "source": [
    "b = 3 > 2\n",
    "print(type(b))"
   ]
  },
  {
   "cell_type": "code",
   "execution_count": 14,
   "id": "cf063065",
   "metadata": {},
   "outputs": [
    {
     "data": {
      "text/plain": [
       "False"
      ]
     },
     "execution_count": 14,
     "metadata": {},
     "output_type": "execute_result"
    }
   ],
   "source": [
    "94 == 3+1"
   ]
  },
  {
   "cell_type": "code",
   "execution_count": 9,
   "id": "f61f5759",
   "metadata": {},
   "outputs": [
    {
     "data": {
      "text/latex": [
       "$\\displaystyle |-3.12| =  3.12$"
      ],
      "text/plain": [
       "<IPython.core.display.Math object>"
      ]
     },
     "metadata": {},
     "output_type": "display_data"
    }
   ],
   "source": [
    "var = -3.12\n",
    "abs_var = abs(var)\n",
    "display(Math('|%g| =  %g' %(var ,abs_var)))"
   ]
  },
  {
   "cell_type": "code",
   "execution_count": 15,
   "id": "59628e3a",
   "metadata": {},
   "outputs": [
    {
     "name": "stdout",
     "output_type": "stream",
     "text": [
      "-4 was not tested.\n",
      "absolute value of 6 is 6\n",
      "-1 was not tested.\n",
      "absolute value of 43 is 43\n",
      "absolute value of -18 is 18\n",
      "2 was not tested.\n",
      "0 was not tested.\n"
     ]
    }
   ],
   "source": [
    "valset = [-4 ,6 ,-1 ,43 ,-18 ,2 ,0]\n",
    "for val in valset:\n",
    "    if (val < -5 or val > 2):\n",
    "        print(\"absolute value of %g is %g\" %(val ,abs(val)))\n",
    "    else:\n",
    "        print(\"%g was not tested.\" %(val))"
   ]
  },
  {
   "cell_type": "code",
   "execution_count": 5,
   "id": "ecb9b888",
   "metadata": {},
   "outputs": [],
   "source": [
    "def myfunc(name):\n",
    "    print(\"Hemlo %s\" %name)"
   ]
  },
  {
   "cell_type": "code",
   "execution_count": 7,
   "id": "90cb84ed",
   "metadata": {},
   "outputs": [
    {
     "name": "stdout",
     "output_type": "stream",
     "text": [
      "Hemlo olmeH\n"
     ]
    }
   ],
   "source": [
    "myfunc(\"olmeH\")"
   ]
  },
  {
   "cell_type": "code",
   "execution_count": 17,
   "id": "c19c89e7",
   "metadata": {},
   "outputs": [],
   "source": [
    "def compute_remainder(x ,y):\n",
    "    display(Math(\"x % y = {%g}\" %(x%y)))"
   ]
  },
  {
   "cell_type": "code",
   "execution_count": 18,
   "id": "d978b23e",
   "metadata": {},
   "outputs": [
    {
     "ename": "ValueError",
     "evalue": "unsupported format character 'y' (0x79) at index 4",
     "output_type": "error",
     "traceback": [
      "\u001b[1;31m---------------------------------------------------------------------------\u001b[0m",
      "\u001b[1;31mValueError\u001b[0m                                Traceback (most recent call last)",
      "\u001b[1;32m<ipython-input-18-e63f31393572>\u001b[0m in \u001b[0;36m<module>\u001b[1;34m\u001b[0m\n\u001b[1;32m----> 1\u001b[1;33m \u001b[0mcompute_remainder\u001b[0m\u001b[1;33m(\u001b[0m\u001b[1;36m23\u001b[0m \u001b[1;33m,\u001b[0m\u001b[1;36m40\u001b[0m\u001b[1;33m)\u001b[0m\u001b[1;33m\u001b[0m\u001b[1;33m\u001b[0m\u001b[0m\n\u001b[0m",
      "\u001b[1;32m<ipython-input-17-3be3ce75aa89>\u001b[0m in \u001b[0;36mcompute_remainder\u001b[1;34m(x, y)\u001b[0m\n\u001b[0;32m      1\u001b[0m \u001b[1;32mdef\u001b[0m \u001b[0mcompute_remainder\u001b[0m\u001b[1;33m(\u001b[0m\u001b[0mx\u001b[0m \u001b[1;33m,\u001b[0m\u001b[0my\u001b[0m\u001b[1;33m)\u001b[0m\u001b[1;33m:\u001b[0m\u001b[1;33m\u001b[0m\u001b[1;33m\u001b[0m\u001b[0m\n\u001b[1;32m----> 2\u001b[1;33m     \u001b[0mdisplay\u001b[0m\u001b[1;33m(\u001b[0m\u001b[0mMath\u001b[0m\u001b[1;33m(\u001b[0m\u001b[1;34m\"x % y = {%g}\"\u001b[0m \u001b[1;33m%\u001b[0m\u001b[1;33m(\u001b[0m\u001b[0mx\u001b[0m\u001b[1;33m%\u001b[0m\u001b[0my\u001b[0m\u001b[1;33m)\u001b[0m\u001b[1;33m)\u001b[0m\u001b[1;33m)\u001b[0m\u001b[1;33m\u001b[0m\u001b[1;33m\u001b[0m\u001b[0m\n\u001b[0m",
      "\u001b[1;31mValueError\u001b[0m: unsupported format character 'y' (0x79) at index 4"
     ]
    }
   ],
   "source": [
    "compute_remainder(23 ,40)"
   ]
  },
  {
   "cell_type": "code",
   "execution_count": 28,
   "id": "addae4a2",
   "metadata": {},
   "outputs": [],
   "source": [
    "def funx(x ,y ,switch):\n",
    "    if (switch == 1):\n",
    "        val = x**y\n",
    "        print(\"%g to the power %g = %g\" %(x ,y ,val))\n",
    "    elif (switch == 2):\n",
    "        val = x/y\n",
    "        print(\"%g divided by %g = %g\" %(x ,y ,val))\n",
    "    else:\n",
    "        print(\"Invalid input\")"
   ]
  },
  {
   "cell_type": "code",
   "execution_count": 30,
   "id": "22d87867",
   "metadata": {},
   "outputs": [
    {
     "name": "stdout",
     "output_type": "stream",
     "text": [
      "12 to the power 5 = 248832\n"
     ]
    }
   ],
   "source": [
    "funx(12 ,5 ,1)"
   ]
  },
  {
   "cell_type": "code",
   "execution_count": 3,
   "id": "585637c6",
   "metadata": {},
   "outputs": [],
   "source": [
    "from numpy import random\n",
    "def guessthenumber():\n",
    "    num = random.randint(1 ,100)\n",
    "    x = int(input(\"Enter the number : \"))\n",
    "    while (num != x):\n",
    "        if (num < x):\n",
    "            print(\"Guess lower!\")\n",
    "            x = int(input(\"Enter number : \"))\n",
    "        elif (num > x):\n",
    "            print(\"Guess higher!\")\n",
    "            x = int(input(\"Enter number : \"))\n",
    "        else:\n",
    "            print(\"You are the king!! guessed the correct answer...\")\n",
    "            break\n",
    "    print(\"You are the king!! guessed the correct answer...\")"
   ]
  },
  {
   "cell_type": "code",
   "execution_count": 4,
   "id": "8bf9ca44",
   "metadata": {},
   "outputs": [
    {
     "name": "stdout",
     "output_type": "stream",
     "text": [
      "Enter the number : 89\n",
      "Guess lower!\n",
      "Enter number : 10\n",
      "Guess higher!\n",
      "Enter number : 60\n",
      "Guess lower!\n",
      "Enter number : 25\n",
      "Guess lower!\n",
      "Enter number : 13\n",
      "Guess higher!\n",
      "Enter number : 20\n",
      "Guess higher!\n",
      "Enter number : 23\n",
      "Guess lower!\n",
      "Enter number : 22\n",
      "You are the king!! guessed the correct answer...\n"
     ]
    }
   ],
   "source": [
    "guessthenumber()"
   ]
  },
  {
   "cell_type": "code",
   "execution_count": null,
   "id": "3c334bbe",
   "metadata": {},
   "outputs": [],
   "source": []
  }
 ],
 "metadata": {
  "kernelspec": {
   "display_name": "Python 3",
   "language": "python",
   "name": "python3"
  },
  "language_info": {
   "codemirror_mode": {
    "name": "ipython",
    "version": 3
   },
   "file_extension": ".py",
   "mimetype": "text/x-python",
   "name": "python",
   "nbconvert_exporter": "python",
   "pygments_lexer": "ipython3",
   "version": "3.8.8"
  }
 },
 "nbformat": 4,
 "nbformat_minor": 5
}
