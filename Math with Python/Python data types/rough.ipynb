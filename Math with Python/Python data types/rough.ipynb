{
 "cells": [
  {
   "cell_type": "code",
   "execution_count": 3,
   "id": "f39d43b5",
   "metadata": {},
   "outputs": [],
   "source": [
    "import numpy as np"
   ]
  },
  {
   "cell_type": "code",
   "execution_count": 4,
   "id": "00cb2c40",
   "metadata": {},
   "outputs": [
    {
     "data": {
      "text/plain": [
       "list"
      ]
     },
     "execution_count": 4,
     "metadata": {},
     "output_type": "execute_result"
    }
   ],
   "source": [
    "alist = [1 ,2 ,3 ,4]\n",
    "type(alist)\n",
    "#square brackets and elements separated by a comma"
   ]
  },
  {
   "cell_type": "code",
   "execution_count": 6,
   "id": "2a14cce5",
   "metadata": {},
   "outputs": [
    {
     "name": "stdout",
     "output_type": "stream",
     "text": [
      "manas\n",
      "2\n",
      "3\n",
      "4\n",
      "5\n"
     ]
    }
   ],
   "source": [
    "anotherlist = ['manas' ,2 ,3, 4, 5]\n",
    "for i in anotherlist:\n",
    "    print(i)\n",
    "#list does not need to have elements of all the same type\n",
    "#list can contain other lists\n"
   ]
  },
  {
   "cell_type": "code",
   "execution_count": 9,
   "id": "c5d68a38",
   "metadata": {},
   "outputs": [
    {
     "name": "stdout",
     "output_type": "stream",
     "text": [
      "manas\n",
      "12\n",
      "2.34\n",
      "[0.11, 0.23, 0.45]\n",
      "[12, [1, 2, 3], 23]\n",
      "45\n"
     ]
    }
   ],
   "source": [
    "#best way to code a list\n",
    "listlist = [\n",
    "    \"manas\",\n",
    "    12,\n",
    "    2.34,\n",
    "    [0.11 ,0.23 ,0.45],\n",
    "    [\n",
    "        12,\n",
    "        [1 ,2 ,3],\n",
    "        23\n",
    "    ],\n",
    "    45\n",
    "]\n",
    "for i in listlist:\n",
    "    print(i)"
   ]
  },
  {
   "cell_type": "markdown",
   "id": "1994f9c0",
   "metadata": {},
   "source": [
    "# adding two lists just concatenates the two lists in order"
   ]
  },
  {
   "cell_type": "code",
   "execution_count": 11,
   "id": "a5350363",
   "metadata": {},
   "outputs": [
    {
     "data": {
      "text/plain": [
       "[1, 2, 3, 4, 5, '1', '2', '3', '4', '5', 1, 2, 3, 4, 5]"
      ]
     },
     "execution_count": 11,
     "metadata": {},
     "output_type": "execute_result"
    }
   ],
   "source": [
    "alist = [1 ,2 ,3 ,4, 5]\n",
    "blist = [\"1\" ,\"2\" ,\"3\" ,\"4\" ,\"5\"]\n",
    "alist + blist + alist"
   ]
  },
  {
   "cell_type": "markdown",
   "id": "3b17b672",
   "metadata": {},
   "source": [
    "# elementwise operations for a list "
   ]
  },
  {
   "cell_type": "code",
   "execution_count": 13,
   "id": "541b3c16",
   "metadata": {},
   "outputs": [
    {
     "name": "stdout",
     "output_type": "stream",
     "text": [
      "[1, 2, 3, 4, 5]\n",
      "[1 2 3 4 5]\n"
     ]
    }
   ],
   "source": [
    "alist_np = np.array(alist)\n",
    "print(alist)\n",
    "print(alist_np)"
   ]
  },
  {
   "cell_type": "code",
   "execution_count": 14,
   "id": "cefdac2e",
   "metadata": {},
   "outputs": [
    {
     "data": {
      "text/plain": [
       "[1, 2, 3, 4, 5, 1, 2, 3, 4, 5, 1, 2, 3, 4, 5]"
      ]
     },
     "execution_count": 14,
     "metadata": {},
     "output_type": "execute_result"
    }
   ],
   "source": [
    "alist * 3"
   ]
  },
  {
   "cell_type": "code",
   "execution_count": 17,
   "id": "53dbbfd5",
   "metadata": {},
   "outputs": [
    {
     "data": {
      "text/plain": [
       "[1, 2, 3, 4, 5, 3]"
      ]
     },
     "execution_count": 17,
     "metadata": {},
     "output_type": "execute_result"
    }
   ],
   "source": [
    "# alist + 3\n",
    "alist + [3]"
   ]
  },
  {
   "cell_type": "code",
   "execution_count": 15,
   "id": "2ff1065a",
   "metadata": {},
   "outputs": [
    {
     "data": {
      "text/plain": [
       "array([ 3,  6,  9, 12, 15])"
      ]
     },
     "execution_count": 15,
     "metadata": {},
     "output_type": "execute_result"
    }
   ],
   "source": [
    "alist_np * 3 #elementwise, though not as advanced as julia"
   ]
  },
  {
   "cell_type": "markdown",
   "id": "547ccbf7",
   "metadata": {},
   "source": [
    "# exercise "
   ]
  },
  {
   "cell_type": "code",
   "execution_count": 18,
   "id": "25cfeffb",
   "metadata": {},
   "outputs": [],
   "source": [
    "exlist = [\n",
    "    3,\n",
    "    ['3' ,'4' ,'5'],\n",
    "    5.5,\n",
    "    [4 ,5 ,6]\n",
    "]\n"
   ]
  },
  {
   "cell_type": "code",
   "execution_count": 27,
   "id": "75712639",
   "metadata": {},
   "outputs": [
    {
     "name": "stdout",
     "output_type": "stream",
     "text": [
      "List element 0 is 3 and is of type <class 'int'>.\n",
      "List element 1 is ['3', '4', '5'] and is of type <class 'list'>.\n",
      "List element 2 is 5.5 and is of type <class 'float'>.\n",
      "List element 3 is [4, 5, 6] and is of type <class 'list'>.\n"
     ]
    }
   ],
   "source": [
    "for (ind ,ele) in enumerate(exlist):\n",
    "    print(f\"List element {ind} is {ele} and is of type {type(ele)}.\")"
   ]
  },
  {
   "cell_type": "code",
   "execution_count": 28,
   "id": "b0e4b052",
   "metadata": {},
   "outputs": [
    {
     "name": "stdout",
     "output_type": "stream",
     "text": [
      "List element 0 is 3 and is of type int.\n",
      "List element 1 is ['3', '4', '5'] and is of type list.\n",
      "List element 2 is 5.5 and is of type float.\n",
      "List element 3 is [4, 5, 6] and is of type list.\n"
     ]
    }
   ],
   "source": [
    "for (ind ,ele) in enumerate(exlist):\n",
    "    t = str(type(ele))[8:]\n",
    "    #now we slice off unimportant parts of t above, sliced off first apostophe too\n",
    "    apostophe = t.find(\"'\") #finding last apostophe in t\n",
    "    \n",
    "    print(f\"List element {ind} is {ele} and is of type {t[:apostophe]}.\")"
   ]
  },
  {
   "cell_type": "code",
   "execution_count": null,
   "id": "6754ba01",
   "metadata": {},
   "outputs": [],
   "source": []
  }
 ],
 "metadata": {
  "kernelspec": {
   "display_name": "Python 3",
   "language": "python",
   "name": "python3"
  },
  "language_info": {
   "codemirror_mode": {
    "name": "ipython",
    "version": 3
   },
   "file_extension": ".py",
   "mimetype": "text/x-python",
   "name": "python",
   "nbconvert_exporter": "python",
   "pygments_lexer": "ipython3",
   "version": "3.8.8"
  }
 },
 "nbformat": 4,
 "nbformat_minor": 5
}
