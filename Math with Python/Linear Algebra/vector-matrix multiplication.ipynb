{
 "cells": [
  {
   "cell_type": "code",
   "execution_count": 1,
   "id": "47ec9653",
   "metadata": {},
   "outputs": [],
   "source": [
    "import numpy as np\n",
    "import matplotlib.pyplot as plt"
   ]
  },
  {
   "cell_type": "code",
   "execution_count": 11,
   "id": "eca08940",
   "metadata": {},
   "outputs": [
    {
     "data": {
      "image/png": "[encoded data removed]",
      "text/plain": [
       "<Figure size 432x288 with 1 Axes>"
      ]
     },
     "metadata": {
      "needs_background": "light"
     },
     "output_type": "display_data"
    }
   ],
   "source": [
    "Matrix = np.array([ [.5 ,1] ,\n",
    "                 [1 , .5] ])\n",
    "vector = np.array([1 ,2])\n",
    "\n",
    "MatVec = Matrix@vector\n",
    "\n",
    "plt.plot([0 ,vector[0]] ,[0 ,vector[1]] ,'b' ,linewidth = 2, label = 'Vector [1 ,2]')\n",
    "plt.plot([0 ,MatVec[0]] ,[0 ,MatVec[1]] ,'r--' ,linewidth = 2 ,label = 'Matrix-Vector product')\n",
    "\n",
    "\n",
    "plt.axis('square')\n",
    "plt.axis([-5 ,5 ,-5 ,5])\n",
    "plt.grid()\n",
    "plt.legend()\n",
    "plt.show()"
   ]
  },
  {
   "cell_type": "code",
   "execution_count": null,
   "id": "44ed3d1c",
   "metadata": {},
   "outputs": [],
   "source": []
  }
 ],
 "metadata": {
  "kernelspec": {
   "display_name": "Python 3",
   "language": "python",
   "name": "python3"
  },
  "language_info": {
   "codemirror_mode": {
    "name": "ipython",
    "version": 3
   },
   "file_extension": ".py",
   "mimetype": "text/x-python",
   "name": "python",
   "nbconvert_exporter": "python",
   "pygments_lexer": "ipython3",
   "version": "3.8.8"
  }
 },
 "nbformat": 4,
 "nbformat_minor": 5
}
