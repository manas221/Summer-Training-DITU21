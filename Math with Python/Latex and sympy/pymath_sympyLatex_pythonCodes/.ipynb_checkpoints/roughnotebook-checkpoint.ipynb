{
 "cells": [
  {
   "cell_type": "code",
   "execution_count": 1,
   "id": "977aa89f",
   "metadata": {},
   "outputs": [],
   "source": [
    "import sympy as sym\n",
    "from IPython.display import display,Math\n",
    "import numpy as np\n",
    "sym.init_printing()"
   ]
  },
  {
   "cell_type": "code",
   "execution_count": 2,
   "id": "5f9dbbfa",
   "metadata": {},
   "outputs": [],
   "source": [
    "x ,y = sym.symbols('x ,y')"
   ]
  },
  {
   "cell_type": "code",
   "execution_count": 3,
   "id": "50740b68",
   "metadata": {},
   "outputs": [
    {
     "data": {
      "image/png": "[encoded data removed]",
      "text/latex": [
       "$\\displaystyle y + 4$"
      ],
      "text/plain": [
       "y + 4"
      ]
     },
     "execution_count": 3,
     "metadata": {},
     "output_type": "execute_result"
    }
   ],
   "source": [
    "y+4"
   ]
  },
  {
   "cell_type": "code",
   "execution_count": 4,
   "id": "a408a90d",
   "metadata": {},
   "outputs": [
    {
     "data": {
      "image/png": "[encoded data removed]",
      "text/latex": [
       "$\\displaystyle x^{0.5} + x^{y}$"
      ],
      "text/plain": [
       " 0.5    y\n",
       "x    + x "
      ]
     },
     "metadata": {},
     "output_type": "display_data"
    }
   ],
   "source": [
    "display(x**y + x**0.5)"
   ]
  },
  {
   "cell_type": "code",
   "execution_count": 5,
   "id": "368e8f7a",
   "metadata": {},
   "outputs": [
    {
     "data": {
      "image/png": "[encoded data removed]",
      "text/latex": [
       "$\\displaystyle \\sqrt{x}$"
      ],
      "text/plain": [
       "√x"
      ]
     },
     "metadata": {},
     "output_type": "display_data"
    },
    {
     "data": {
      "image/png": "[encoded data removed]",
      "text/latex": [
       "$\\displaystyle \\sqrt[3]{2}$"
      ],
      "text/plain": [
       "3 ___\n",
       "╲╱ 2 "
      ]
     },
     "metadata": {},
     "output_type": "display_data"
    },
    {
     "data": {
      "image/png": "[encoded data removed]",
      "text/latex": [
       "$\\displaystyle 1.4142135623731$"
      ],
      "text/plain": [
       "1.4142135623730951"
      ]
     },
     "metadata": {},
     "output_type": "display_data"
    }
   ],
   "source": [
    "display(sym.sqrt(x))\n",
    "display(sym.cbrt(2))\n",
    "display(np.sqrt(2))"
   ]
  },
  {
   "cell_type": "code",
   "execution_count": 6,
   "id": "817c8441",
   "metadata": {},
   "outputs": [
    {
     "data": {
      "image/png": "[encoded data removed]",
      "text/latex": [
       "$\\displaystyle \\sqrt{x} + 1.4142135623731$"
      ],
      "text/plain": [
       "√x + 1.4142135623731"
      ]
     },
     "metadata": {},
     "output_type": "display_data"
    }
   ],
   "source": [
    "sr = np.sqrt(2)\n",
    "display(sym.sqrt(x)  +sr)"
   ]
  },
  {
   "cell_type": "code",
   "execution_count": 11,
   "id": "3cb3ac38",
   "metadata": {},
   "outputs": [
    {
     "name": "stdout",
     "output_type": "stream",
     "text": [
      "4+3 = 7\n"
     ]
    },
    {
     "data": {
      "text/latex": [
       "$\\displaystyle 4 + 3 = 7$"
      ],
      "text/plain": [
       "<IPython.core.display.Math object>"
      ]
     },
     "metadata": {},
     "output_type": "display_data"
    }
   ],
   "source": [
    "print(\"4+3 = 7\")   #without latex\n",
    "display(Math(\"4 + 3 = 7\")) #without sympy"
   ]
  },
  {
   "cell_type": "code",
   "execution_count": 12,
   "id": "a982b2e5",
   "metadata": {},
   "outputs": [
    {
     "data": {
      "text/latex": [
       "$\\displaystyle \\frac{\\delta u}{\\delta v} + \\frac{\\delta v}{\\delta r} + \\frac{v}{r} = 0$"
      ],
      "text/plain": [
       "<IPython.core.display.Math object>"
      ]
     },
     "metadata": {},
     "output_type": "display_data"
    }
   ],
   "source": [
    "display(Math(\"\\\\frac{\\\\delta u}{\\\\delta v} + \\\\frac{\\\\delta v}{\\\\delta r} + \\\\frac{v}{r} = 0\"))\n",
    "#latex"
   ]
  },
  {
   "cell_type": "code",
   "execution_count": 13,
   "id": "05f7014b",
   "metadata": {},
   "outputs": [
    {
     "data": {
      "text/latex": [
       "$\\displaystyle x_n$"
      ],
      "text/plain": [
       "<IPython.core.display.Math object>"
      ]
     },
     "metadata": {},
     "output_type": "display_data"
    }
   ],
   "source": [
    "display(Math(\"x_n\"))\n",
    "#latex"
   ]
  },
  {
   "cell_type": "code",
   "execution_count": 14,
   "id": "79e0a9f7",
   "metadata": {},
   "outputs": [
    {
     "data": {
      "text/latex": [
       "$\\displaystyle \\frac{d[A_p]}{dt}= k_f[A_{out}]+ K_{inp}[OP][A_{out}]- K_3[A_p][R]$"
      ],
      "text/plain": [
       "<IPython.core.display.Math object>"
      ]
     },
     "metadata": {},
     "output_type": "display_data"
    },
    {
     "data": {
      "text/latex": [
       "$\\displaystyle A_p = \\text{variable #1}$"
      ],
      "text/plain": [
       "<IPython.core.display.Math object>"
      ]
     },
     "metadata": {},
     "output_type": "display_data"
    },
    {
     "data": {
      "text/latex": [
       "$\\displaystyle K_f = \\text{variable #2}$"
      ],
      "text/plain": [
       "<IPython.core.display.Math object>"
      ]
     },
     "metadata": {},
     "output_type": "display_data"
    },
    {
     "data": {
      "text/latex": [
       "$\\displaystyle A_{out} = \\text{variable #3}$"
      ],
      "text/plain": [
       "<IPython.core.display.Math object>"
      ]
     },
     "metadata": {},
     "output_type": "display_data"
    },
    {
     "data": {
      "text/latex": [
       "$\\displaystyle K_{inp} = \\text{variable #4}$"
      ],
      "text/plain": [
       "<IPython.core.display.Math object>"
      ]
     },
     "metadata": {},
     "output_type": "display_data"
    }
   ],
   "source": [
    "exp1 = \"\\\\frac{d[A_p]}{dt}\"\n",
    "exp2 = \"= k_f[A_{out}]\"\n",
    "exp3 = \"+ K_{inp}[OP][A_{out}]\"\n",
    "exp4 = \"- K_3[A_p][R]\"\n",
    "display(Math(exp1 + exp2 + exp3 + exp4))\n",
    "display(Math(\"A_p = \\\\text{variable #1}\"))\n",
    "display(Math(\"K_f = \\\\text{variable #2}\"))\n",
    "display(Math(\"A_{out} = \\\\text{variable #3}\"))\n",
    "display(Math(\"K_{inp} = \\\\text{variable #4}\"))\n",
    "#this is in latex as python cell"
   ]
  },
  {
   "cell_type": "code",
   "execution_count": 32,
   "id": "38780f3a",
   "metadata": {},
   "outputs": [
    {
     "data": {
      "image/png": "[encoded data removed]",
      "text/latex": [
       "$\\displaystyle \\frac{d[A_p]}{dt} + k_f[A_{out}]$"
      ],
      "text/plain": [
       "\\frac{d[A_p]}{dt} + k_f[A_{out}]"
      ]
     },
     "metadata": {},
     "output_type": "display_data"
    }
   ],
   "source": [
    "v1 = sym.symbols(\"\\\\frac{d[A_p]}{dt}\")\n",
    "v2 = sym.symbols(\"k_f[A_{out}]\")\n",
    "display(v1 + v2)"
   ]
  },
  {
   "cell_type": "markdown",
   "id": "5a9f8fe9",
   "metadata": {},
   "source": [
    "# This is a markdown cell\n",
    "$\\frac{d[A_p]}{dt} = k_f[A_{out}] + K_{inp}[OP][A_{out}] - K_3[A_p][R]$"
   ]
  },
  {
   "cell_type": "markdown",
   "id": "b2246861",
   "metadata": {},
   "source": [
    "# LaTex Exercises\n",
    "$4x + 5y - 8z = 17$\n",
    "<br>\n",
    "<br>\n",
    "$\\sin(2\\pi f t + \\theta)$\n",
    "<br>\n",
    "<br>\n",
    "$e = mc^2$\n",
    "<br>\n",
    "<br>\n",
    "$\\frac{4 + 5x^2}{(1+x)(1-x)}$"
   ]
  },
  {
   "cell_type": "code",
   "execution_count": 40,
   "id": "7fb910f6",
   "metadata": {},
   "outputs": [
    {
     "data": {
      "image/png": "[encoded data removed]",
      "text/latex": [
       "$\\displaystyle e^{\\frac{\\left(- \\alpha + \\mu\\right)^{2}}{2 \\sigma^{2}}}$"
      ],
      "text/plain": [
       "         2\n",
       " (-α + μ) \n",
       " ─────────\n",
       "       2  \n",
       "    2⋅σ   \n",
       "ℯ         "
      ]
     },
     "metadata": {},
     "output_type": "display_data"
    }
   ],
   "source": [
    "mu ,alpha ,sigma = sym.symbols('mu ,alpha ,sigma')\n",
    "expr2 = sym.exp((mu - alpha)**2 / (2*sigma**2))\n",
    "display(expr2)"
   ]
  },
  {
   "cell_type": "code",
   "execution_count": 37,
   "id": "d1eb4907",
   "metadata": {},
   "outputs": [
    {
     "data": {
      "text/plain": [
       "'\\\\mathtt{\\\\text{a*b + c}}'"
      ]
     },
     "execution_count": 37,
     "metadata": {},
     "output_type": "execute_result"
    }
   ],
   "source": [
    "sym.latex('a*b + c')"
   ]
  },
  {
   "cell_type": "markdown",
   "id": "79a38100",
   "metadata": {},
   "source": [
    "$\\mathtt{\\text{ab + c}}$"
   ]
  },
  {
   "cell_type": "markdown",
   "id": "643a09c0",
   "metadata": {},
   "source": [
    "# latex-sympy exercise [next cell]"
   ]
  },
  {
   "cell_type": "code",
   "execution_count": 56,
   "id": "b1c7c182",
   "metadata": {},
   "outputs": [
    {
     "data": {
      "text/latex": [
       "$\\displaystyle \\text{With x = -2 , }x^2 + 4 \\quad \\Rightarrow \\quad -2^2 + 4 = 8$"
      ],
      "text/plain": [
       "<IPython.core.display.Math object>"
      ]
     },
     "metadata": {},
     "output_type": "display_data"
    },
    {
     "data": {
      "text/latex": [
       "$\\displaystyle \\text{With x = -1 , }x^2 + 4 \\quad \\Rightarrow \\quad -1^2 + 4 = 5$"
      ],
      "text/plain": [
       "<IPython.core.display.Math object>"
      ]
     },
     "metadata": {},
     "output_type": "display_data"
    },
    {
     "data": {
      "text/latex": [
       "$\\displaystyle \\text{With x = 0 , }x^2 + 4 \\quad \\Rightarrow \\quad 0^2 + 4 = 4$"
      ],
      "text/plain": [
       "<IPython.core.display.Math object>"
      ]
     },
     "metadata": {},
     "output_type": "display_data"
    },
    {
     "data": {
      "text/latex": [
       "$\\displaystyle \\text{With x = 1 , }x^2 + 4 \\quad \\Rightarrow \\quad 1^2 + 4 = 5$"
      ],
      "text/plain": [
       "<IPython.core.display.Math object>"
      ]
     },
     "metadata": {},
     "output_type": "display_data"
    },
    {
     "data": {
      "text/latex": [
       "$\\displaystyle \\text{With x = 2 , }x^2 + 4 \\quad \\Rightarrow \\quad 2^2 + 4 = 8$"
      ],
      "text/plain": [
       "<IPython.core.display.Math object>"
      ]
     },
     "metadata": {},
     "output_type": "display_data"
    }
   ],
   "source": [
    "x = sym.symbols('x')\n",
    "expr = x**2 + 4\n",
    "lst = [-2 ,-1 ,0 ,1 ,2]\n",
    "for i in lst:\n",
    "    display(Math('\\\\text{With x = %g , }x^2 + 4 \\\\quad \\\\Rightarrow \\\\quad %g^2 + 4 = %g' %(i ,i ,expr.subs(x ,i))))\n",
    "    "
   ]
  },
  {
   "cell_type": "markdown",
   "id": "d3adf496",
   "metadata": {},
   "source": [
    "# Printing with fstrings "
   ]
  },
  {
   "cell_type": "code",
   "execution_count": 58,
   "id": "ae37516e",
   "metadata": {},
   "outputs": [
    {
     "name": "stdout",
     "output_type": "stream",
     "text": [
      "Hi my name is manas and I am 20 years old\n"
     ]
    }
   ],
   "source": [
    "svar = 'manas'\n",
    "nvar = 20\n",
    "print(f\"Hi my name is {svar} and I am {nvar} years old\")"
   ]
  },
  {
   "cell_type": "code",
   "execution_count": null,
   "id": "15860e4d",
   "metadata": {},
   "outputs": [],
   "source": []
  }
 ],
 "metadata": {
  "kernelspec": {
   "display_name": "Python 3",
   "language": "python",
   "name": "python3"
  },
  "language_info": {
   "codemirror_mode": {
    "name": "ipython",
    "version": 3
   },
   "file_extension": ".py",
   "mimetype": "text/x-python",
   "name": "python",
   "nbconvert_exporter": "python",
   "pygments_lexer": "ipython3",
   "version": "3.8.8"
  }
 },
 "nbformat": 4,
 "nbformat_minor": 5
}
