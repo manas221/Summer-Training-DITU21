{
 "cells": [
  {
   "cell_type": "code",
   "execution_count": 4,
   "id": "a4bdf1ae",
   "metadata": {},
   "outputs": [],
   "source": [
    "import sympy as sym\n",
    "from IPython.display import display ,Math"
   ]
  },
  {
   "cell_type": "code",
   "execution_count": 6,
   "id": "c3616ec3",
   "metadata": {},
   "outputs": [],
   "source": [
    "x ,y,z = sym.symbols('x ,y ,z')"
   ]
  },
  {
   "cell_type": "code",
   "execution_count": 10,
   "id": "fa326e5b",
   "metadata": {},
   "outputs": [
    {
     "data": {
      "text/latex": [
       "$\\displaystyle x^{y} x^{z}$"
      ],
      "text/plain": [
       "x**y*x**z"
      ]
     },
     "metadata": {},
     "output_type": "display_data"
    },
    {
     "data": {
      "text/latex": [
       "$\\displaystyle x^{y + z}$"
      ],
      "text/plain": [
       "x**(y + z)"
      ]
     },
     "metadata": {},
     "output_type": "display_data"
    }
   ],
   "source": [
    "exp1 = x**y * x**z\n",
    "display(exp1)\n",
    "display(sym.simplify(exp1))"
   ]
  },
  {
   "cell_type": "code",
   "execution_count": 16,
   "id": "27005f67",
   "metadata": {},
   "outputs": [
    {
     "data": {
      "text/latex": [
       "$\\displaystyle x^{y} x^{z} = x^{y + z}$"
      ],
      "text/plain": [
       "<IPython.core.display.Math object>"
      ]
     },
     "metadata": {},
     "output_type": "display_data"
    },
    {
     "data": {
      "text/latex": [
       "$\\displaystyle x^{y} x^{- z} = x^{y - z}$"
      ],
      "text/plain": [
       "<IPython.core.display.Math object>"
      ]
     },
     "metadata": {},
     "output_type": "display_data"
    },
    {
     "data": {
      "text/latex": [
       "$\\displaystyle x^{y} y^{z} = x^{y} y^{z}$"
      ],
      "text/plain": [
       "<IPython.core.display.Math object>"
      ]
     },
     "metadata": {},
     "output_type": "display_data"
    }
   ],
   "source": [
    "ex1 = x**y * x**z\n",
    "ex2 = x**y / x**z\n",
    "ex3 = x**y * y**z\n",
    "lex = [ex1 ,ex2 ,ex3]\n",
    "for i in lex:\n",
    "    display(Math(\"%s = %s\" %(sym.latex(i) ,sym.latex(sym.simplify(i)) )))"
   ]
  },
  {
   "cell_type": "code",
   "execution_count": 17,
   "id": "732b5df3",
   "metadata": {},
   "outputs": [
    {
     "data": {
      "text/latex": [
       "$\\displaystyle \\text{True}$"
      ],
      "text/plain": [
       "True"
      ]
     },
     "execution_count": 17,
     "metadata": {},
     "output_type": "execute_result"
    }
   ],
   "source": [
    "sym.Eq(4 ,2+2)"
   ]
  },
  {
   "cell_type": "code",
   "execution_count": null,
   "id": "df1b8735",
   "metadata": {},
   "outputs": [],
   "source": []
  }
 ],
 "metadata": {
  "kernelspec": {
   "display_name": "Python 3",
   "language": "python",
   "name": "python3"
  },
  "language_info": {
   "codemirror_mode": {
    "name": "ipython",
    "version": 3
   },
   "file_extension": ".py",
   "mimetype": "text/x-python",
   "name": "python",
   "nbconvert_exporter": "python",
   "pygments_lexer": "ipython3",
   "version": "3.8.8"
  }
 },
 "nbformat": 4,
 "nbformat_minor": 5
}
