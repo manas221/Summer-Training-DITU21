{
 "cells": [
  {
   "cell_type": "code",
   "execution_count": 1,
   "id": "9b9effd1",
   "metadata": {},
   "outputs": [],
   "source": [
    "import sympy as sym\n",
    "import numpy as np\n",
    "from IPython.display import display ,Math"
   ]
  },
  {
   "cell_type": "code",
   "execution_count": 2,
   "id": "bed5a4b9",
   "metadata": {},
   "outputs": [
    {
     "data": {
      "text/plain": [
       "list"
      ]
     },
     "execution_count": 2,
     "metadata": {},
     "output_type": "execute_result"
    }
   ],
   "source": [
    "A = [[1 ,2] ,[3 ,4]]\n",
    "type(A)\n",
    "#not a matrix but a list of list"
   ]
  },
  {
   "cell_type": "code",
   "execution_count": 3,
   "id": "c5e19283",
   "metadata": {},
   "outputs": [
    {
     "data": {
      "text/plain": [
       "numpy.ndarray"
      ]
     },
     "execution_count": 3,
     "metadata": {},
     "output_type": "execute_result"
    }
   ],
   "source": [
    "B = np.array(A)\n",
    "type(B)\n",
    "#now this is a matrix "
   ]
  },
  {
   "cell_type": "code",
   "execution_count": 4,
   "id": "ccd196ef",
   "metadata": {},
   "outputs": [
    {
     "data": {
      "text/latex": [
       "$\\displaystyle \\left[\\begin{matrix}1 & 2\\\\3 & 4\\end{matrix}\\right]$"
      ],
      "text/plain": [
       "<IPython.core.display.Math object>"
      ]
     },
     "metadata": {},
     "output_type": "display_data"
    }
   ],
   "source": [
    "display(Math(sym.latex(sym.simplify(B))))"
   ]
  },
  {
   "cell_type": "code",
   "execution_count": 5,
   "id": "d999c285",
   "metadata": {},
   "outputs": [],
   "source": [
    "zmt = np.zeros([4 ,5])\n",
    "zmt[3][3] = 1 #two ways to represent same thing\n",
    "zmt[3 ,3] = 2 #another way to represent indices\n",
    "#outputs a matrix of zeroes based on dimension inputted"
   ]
  },
  {
   "cell_type": "code",
   "execution_count": 6,
   "id": "49cac8da",
   "metadata": {},
   "outputs": [
    {
     "data": {
      "text/plain": [
       "array([[0., 0., 0., 0., 0.],\n",
       "       [0., 0., 0., 0., 0.],\n",
       "       [0., 0., 0., 0., 0.],\n",
       "       [0., 0., 0., 2., 0.]])"
      ]
     },
     "execution_count": 6,
     "metadata": {},
     "output_type": "execute_result"
    }
   ],
   "source": [
    "zmt"
   ]
  },
  {
   "cell_type": "markdown",
   "id": "112db6a7",
   "metadata": {},
   "source": [
    "# we have to print following results in matrix format\n",
    "### solution to exercise in video 37\n",
    "$f(i,j) = (4+i)(2-j)\\\\$\n",
    "$\\text{i = row, j = column}$\n",
    "$\\newline$\n",
    "$i,j \\in \\text{{0 ,1 ,2}}$"
   ]
  },
  {
   "cell_type": "code",
   "execution_count": 7,
   "id": "de385024",
   "metadata": {},
   "outputs": [
    {
     "data": {
      "text/latex": [
       "$\\displaystyle \\left[\\begin{matrix}8.0 & 4.0 & 0 & -4.0 & -8.0\\\\10.0 & 5.0 & 0 & -5.0 & -10.0\\\\12.0 & 6.0 & 0 & -6.0 & -12.0\\\\14.0 & 7.0 & 0 & -7.0 & -14.0\\\\16.0 & 8.0 & 0 & -8.0 & -16.0\\end{matrix}\\right]$"
      ],
      "text/plain": [
       "<IPython.core.display.Math object>"
      ]
     },
     "metadata": {},
     "output_type": "display_data"
    }
   ],
   "source": [
    "n = 5\n",
    "ans = np.zeros([n,n])\n",
    "nrange = range(0,n)\n",
    "for i in nrange:\n",
    "    for j in nrange:\n",
    "        ans[i ,j] = (4+i)*(2-j)\n",
    "display(Math(sym.latex(sym.simplify(ans))))"
   ]
  },
  {
   "cell_type": "code",
   "execution_count": 8,
   "id": "415bb12a",
   "metadata": {},
   "outputs": [
    {
     "data": {
      "text/latex": [
       "$\\displaystyle \\left[\\begin{matrix}8.0 & 4.0 & 0 & -4.0 & -8.0\\\\10.0 & 5.0 & 0 & -5.0 & -10.0\\\\12.0 & 6.0 & 0 & -6.0 & -12.0\\\\14.0 & 7.0 & 0 & -7.0 & -14.0\\\\16.0 & 8.0 & 0 & -8.0 & -16.0\\end{matrix}\\right]$"
      ],
      "text/plain": [
       "<IPython.core.display.Math object>"
      ]
     },
     "metadata": {},
     "output_type": "display_data"
    }
   ],
   "source": [
    "## another implementation\n",
    "a,b = sym.symbols(\"a b\")\n",
    "Fxy = (4+a)*(2-b)\n",
    "ans2 = np.zeros([len(nrange) ,len(nrange)])\n",
    "for i in nrange:\n",
    "    for j in nrange:\n",
    "        ans2[i ,j] = Fxy.subs(a,i).subs(b,j)\n",
    "display(Math(sym.latex(sym.simplify(ans2))))"
   ]
  },
  {
   "cell_type": "markdown",
   "id": "2dc17eaf",
   "metadata": {},
   "source": [
    "# producing a multiplication table \n",
    "## solution for video 38"
   ]
  },
  {
   "cell_type": "code",
   "execution_count": 9,
   "id": "59094a4a",
   "metadata": {},
   "outputs": [
    {
     "data": {
      "text/latex": [
       "$\\displaystyle \\left[\\begin{matrix}1 & 2 & 3 & 4 & 5 & 6 & 7 & 8 & 9 & 10\\\\2 & 4 & 6 & 8 & 10 & 12 & 14 & 16 & 18 & 20\\\\3 & 6 & 9 & 12 & 15 & 18 & 21 & 24 & 27 & 30\\\\4 & 8 & 12 & 16 & 20 & 24 & 28 & 32 & 36 & 40\\\\5 & 10 & 15 & 20 & 25 & 30 & 35 & 40 & 45 & 50\\\\6 & 12 & 18 & 24 & 30 & 36 & 42 & 48 & 54 & 60\\\\7 & 14 & 21 & 28 & 35 & 42 & 49 & 56 & 63 & 70\\\\8 & 16 & 24 & 32 & 40 & 48 & 56 & 64 & 72 & 80\\\\9 & 18 & 27 & 36 & 45 & 54 & 63 & 72 & 81 & 90\\\\10 & 20 & 30 & 40 & 50 & 60 & 70 & 80 & 90 & 100\\end{matrix}\\right]$"
      ],
      "text/plain": [
       "<IPython.core.display.Math object>"
      ]
     },
     "metadata": {},
     "output_type": "display_data"
    }
   ],
   "source": [
    "ulim = 10\n",
    "urange = range(1 ,ulim+1)\n",
    "p,q = sym.symbols(\"p q\")\n",
    "Fpq = p*q\n",
    "mult_table = np.zeros([len(urange) ,len(urange)], dtype = int)\n",
    "for i in urange:\n",
    "    for j in urange:\n",
    "        mult_table[i-1,j-1] = Fpq.subs(p ,i).subs(q ,j)\n",
    "        \n",
    "\n",
    "display(Math(sym.latex(sym.simplify(mult_table))))"
   ]
  },
  {
   "cell_type": "markdown",
   "id": "7d83a255",
   "metadata": {},
   "source": [
    "# video 39 : associative and other properties"
   ]
  },
  {
   "cell_type": "code",
   "execution_count": 10,
   "id": "96827e0b",
   "metadata": {},
   "outputs": [
    {
     "data": {
      "text/plain": [
       "True"
      ]
     },
     "execution_count": 10,
     "metadata": {},
     "output_type": "execute_result"
    }
   ],
   "source": [
    "from sympy.abc import x,y\n",
    "expr1 = x*(4*y)\n",
    "expr2 = (x*4)*y\n",
    "\n",
    "expr1 - expr2 == 0\n",
    "#hence associative rule is proved"
   ]
  },
  {
   "cell_type": "code",
   "execution_count": 11,
   "id": "3894fbd4",
   "metadata": {},
   "outputs": [
    {
     "data": {
      "text/plain": [
       "True"
      ]
     },
     "execution_count": 11,
     "metadata": {},
     "output_type": "execute_result"
    }
   ],
   "source": [
    "expr3 = x*4*y\n",
    "expr4 = x*y*4\n",
    "\n",
    "expr3 == expr4"
   ]
  },
  {
   "cell_type": "code",
   "execution_count": 12,
   "id": "d7fbc270",
   "metadata": {},
   "outputs": [
    {
     "name": "stdout",
     "output_type": "stream",
     "text": [
      "80\n",
      "80\n"
     ]
    }
   ],
   "source": [
    "print(expr3.subs({x:4,y:5}))\n",
    "print(expr4.subs({x:4,y:5}))\n",
    "#hence distributive law is proved"
   ]
  },
  {
   "cell_type": "code",
   "execution_count": 13,
   "id": "b752b8a2",
   "metadata": {},
   "outputs": [
    {
     "name": "stdout",
     "output_type": "stream",
     "text": [
      "21\n",
      "21\n"
     ]
    }
   ],
   "source": [
    "a,b,c,d = sym.symbols(\"a b c d\")\n",
    "expr5 = (a+b)*(c+d)\n",
    "expr6 = a*c + a*d + b*c + b*d\n",
    "print(expr5.subs({a:1,b:2,c:3,d:4}))\n",
    "print(expr6.subs({a:1,b:2,c:3,d:4}))"
   ]
  },
  {
   "cell_type": "code",
   "execution_count": 95,
   "id": "8559a9c6",
   "metadata": {},
   "outputs": [
    {
     "data": {
      "text/latex": [
       "$\\displaystyle \\left(y + z\\right) \\left(w \\left(4 - w\\right) + \\frac{w + 1}{w^{2}}\\right) \\left(\\left(w \\left(4 - w\\right) + \\frac{w + 1}{w^{2}}\\right)^{2} + \\frac{3}{w \\left(4 - w\\right) + \\frac{w + 1}{w^{2}}}\\right)$"
      ],
      "text/plain": [
       "<IPython.core.display.Math object>"
      ]
     },
     "metadata": {},
     "output_type": "display_data"
    },
    {
     "data": {
      "text/latex": [
       "$\\displaystyle \\frac{\\left(3 w^{6} + \\left(- w^{3} \\left(w - 4\\right) + w + 1\\right)^{3}\\right) \\left(y + z\\right)}{w^{6}}$"
      ],
      "text/plain": [
       "<IPython.core.display.Math object>"
      ]
     },
     "metadata": {},
     "output_type": "display_data"
    }
   ],
   "source": [
    "x,y,z,w = sym.symbols(\"x y z w\")\n",
    "x = w*(4-w) + 1/w**2 * (1+w)\n",
    "f1 = x*(y+z)\n",
    "f2 = 3/x + x**2\n",
    "display(Math(sym.latex(f1*f2)))\n",
    "display(Math(sym.latex(sym.simplify(f1*f2))))"
   ]
  }
 ],
 "metadata": {
  "kernelspec": {
   "display_name": "Python 3",
   "language": "python",
   "name": "python3"
  },
  "language_info": {
   "codemirror_mode": {
    "name": "ipython",
    "version": 3
   },
   "file_extension": ".py",
   "mimetype": "text/x-python",
   "name": "python",
   "nbconvert_exporter": "python",
   "pygments_lexer": "ipython3",
   "version": "3.8.8"
  }
 },
 "nbformat": 4,
 "nbformat_minor": 5
}
