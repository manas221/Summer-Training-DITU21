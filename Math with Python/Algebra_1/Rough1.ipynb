{
 "cells": [
  {
   "cell_type": "code",
   "execution_count": 10,
   "id": "6aa1df7d",
   "metadata": {},
   "outputs": [],
   "source": [
    "import sympy as sym\n",
    "from IPython.display import display, Math\n",
    "x = sym.symbols('x')"
   ]
  },
  {
   "cell_type": "code",
   "execution_count": 16,
   "id": "4f99e11f",
   "metadata": {},
   "outputs": [
    {
     "data": {
      "text/plain": [
       "[-1]"
      ]
     },
     "execution_count": 16,
     "metadata": {},
     "output_type": "execute_result"
    }
   ],
   "source": [
    "expr = 2*x + 4 - 2 #expr is default equal to zero\n",
    "sym.solve(expr ,x)"
   ]
  },
  {
   "cell_type": "code",
   "execution_count": 18,
   "id": "87540f68",
   "metadata": {},
   "outputs": [
    {
     "data": {
      "text/latex": [
       "$\\displaystyle \\text{The solution to [} 2 x + 2 \\text{] is x = } -1$"
      ],
      "text/plain": [
       "<IPython.core.display.Math object>"
      ]
     },
     "metadata": {},
     "output_type": "display_data"
    }
   ],
   "source": [
    "#displaying above in nicer way\n",
    "display(Math(\"\\\\text{The solution to [} %s \\\\text{] is x = } %g\" %(sym.latex(expr) ,sym.solve(expr ,x)[0]) ))"
   ]
  },
  {
   "cell_type": "markdown",
   "id": "1bc82dbf",
   "metadata": {},
   "source": [
    "# exercises"
   ]
  },
  {
   "cell_type": "code",
   "execution_count": 19,
   "id": "d7260987",
   "metadata": {},
   "outputs": [],
   "source": [
    "q = sym.symbols('q')"
   ]
  },
  {
   "cell_type": "code",
   "execution_count": 27,
   "id": "0f0e5f39",
   "metadata": {},
   "outputs": [
    {
     "data": {
      "text/latex": [
       "$\\displaystyle - 2 q + 2 + \\frac{3}{q}$"
      ],
      "text/plain": [
       "-2*q + 2 + 3/q"
      ]
     },
     "metadata": {},
     "output_type": "display_data"
    }
   ],
   "source": [
    "exl1 = 3*q + 4/q + 3\n",
    "exr1 = 5*q + 1/q + 1\n",
    "exfinal1 = exl - exr\n",
    "sol1 = sym.solve(exfinal1 ,q)"
   ]
  },
  {
   "cell_type": "code",
   "execution_count": 30,
   "id": "def7b081",
   "metadata": {},
   "outputs": [
    {
     "data": {
      "text/latex": [
       "$\\displaystyle \\text{The solutions to } - 2 q + 2 + \\frac{3}{q} are : $"
      ],
      "text/plain": [
       "<IPython.core.display.Math object>"
      ]
     },
     "metadata": {},
     "output_type": "display_data"
    },
    {
     "data": {
      "text/latex": [
       "$\\displaystyle \\frac{1}{2} - \\frac{\\sqrt{7}}{2}$"
      ],
      "text/plain": [
       "1/2 - sqrt(7)/2"
      ]
     },
     "metadata": {},
     "output_type": "display_data"
    },
    {
     "data": {
      "text/latex": [
       "$\\displaystyle \\frac{1}{2} + \\frac{\\sqrt{7}}{2}$"
      ],
      "text/plain": [
       "1/2 + sqrt(7)/2"
      ]
     },
     "metadata": {},
     "output_type": "display_data"
    }
   ],
   "source": [
    "display(Math(\"\\\\text{The solutions to } %s are : \" %(sym.latex(exfinal1))))\n",
    "for sol in sol1:\n",
    "    display(sol)"
   ]
  },
  {
   "cell_type": "code",
   "execution_count": 34,
   "id": "2ab4b533",
   "metadata": {},
   "outputs": [],
   "source": [
    "ex2 = 2*q + 3*(q**2) - 5/q - 4/(q**3)\n",
    "sol2 = sym.solve(ex2 ,q)"
   ]
  },
  {
   "cell_type": "code",
   "execution_count": 51,
   "id": "e41c7150",
   "metadata": {},
   "outputs": [
    {
     "data": {
      "text/latex": [
       "$\\displaystyle \\text{The simplifications to } 3 q^{2} + 2 q - \\frac{5}{q} - \\frac{4}{q^{3}} are : $"
      ],
      "text/plain": [
       "<IPython.core.display.Math object>"
      ]
     },
     "metadata": {},
     "output_type": "display_data"
    },
    {
     "data": {
      "text/latex": [
       "$\\displaystyle \\frac{3 q^{5} + 2 q^{4} - 5 q^{2} - 4}{q^{3}}$"
      ],
      "text/plain": [
       "(3*q**5 + 2*q**4 - 5*q**2 - 4)/q**3"
      ]
     },
     "metadata": {},
     "output_type": "display_data"
    }
   ],
   "source": [
    "display(Math(\"\\\\text{The simplifications to } %s are : \" %(sym.latex(ex2))))\n",
    "display(sym.cancel(ex2))"
   ]
  },
  {
   "cell_type": "code",
   "execution_count": 56,
   "id": "8bd8ad27",
   "metadata": {},
   "outputs": [
    {
     "data": {
      "text/latex": [
       "$\\displaystyle \\frac{\\sqrt{15} q + \\sqrt{3}}{\\sqrt{10} q + \\sqrt{2}}$"
      ],
      "text/plain": [
       "(sqrt(15)*q + sqrt(3))/(sqrt(10)*q + sqrt(2))"
      ]
     },
     "metadata": {},
     "output_type": "display_data"
    },
    {
     "data": {
      "text/latex": [
       "$\\displaystyle \\frac{\\sqrt{6}}{2}$"
      ],
      "text/plain": [
       "sqrt(6)/2"
      ]
     },
     "metadata": {},
     "output_type": "display_data"
    }
   ],
   "source": [
    "exn = (sym.sqrt(3) + sym.sqrt(15)*q) / (sym.sqrt(2) + sym.sqrt(10)*q)\n",
    "display(exn)\n",
    "display(sym.simplify(exn))"
   ]
  },
  {
   "cell_type": "code",
   "execution_count": 58,
   "id": "9dccb50a",
   "metadata": {},
   "outputs": [
    {
     "ename": "NameError",
     "evalue": "name 'simplify' is not defined",
     "output_type": "error",
     "traceback": [
      "\u001b[1;31m---------------------------------------------------------------------------\u001b[0m",
      "\u001b[1;31mNameError\u001b[0m                                 Traceback (most recent call last)",
      "\u001b[1;32m<ipython-input-58-cb23a61f3312>\u001b[0m in \u001b[0;36m<module>\u001b[1;34m\u001b[0m\n\u001b[1;32m----> 1\u001b[1;33m \u001b[0mhelp\u001b[0m\u001b[1;33m(\u001b[0m\u001b[0msimplify\u001b[0m\u001b[1;33m)\u001b[0m\u001b[1;33m\u001b[0m\u001b[1;33m\u001b[0m\u001b[0m\n\u001b[0m",
      "\u001b[1;31mNameError\u001b[0m: name 'simplify' is not defined"
     ]
    }
   ],
   "source": []
  },
  {
   "cell_type": "code",
   "execution_count": null,
   "id": "4340e683",
   "metadata": {},
   "outputs": [],
   "source": []
  }
 ],
 "metadata": {
  "kernelspec": {
   "display_name": "Python 3",
   "language": "python",
   "name": "python3"
  },
  "language_info": {
   "codemirror_mode": {
    "name": "ipython",
    "version": 3
   },
   "file_extension": ".py",
   "mimetype": "text/x-python",
   "name": "python",
   "nbconvert_exporter": "python",
   "pygments_lexer": "ipython3",
   "version": "3.8.8"
  }
 },
 "nbformat": 4,
 "nbformat_minor": 5
}
