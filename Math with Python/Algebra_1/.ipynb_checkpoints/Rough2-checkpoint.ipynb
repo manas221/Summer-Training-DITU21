{
 "cells": [
  {
   "cell_type": "code",
   "execution_count": 1,
   "id": "82a76f5a",
   "metadata": {},
   "outputs": [],
   "source": [
    "from IPython.display import display ,Math\n",
    "import sympy as sym"
   ]
  },
  {
   "cell_type": "code",
   "execution_count": 5,
   "id": "20fcc4b3",
   "metadata": {},
   "outputs": [
    {
     "data": {
      "text/latex": [
       "$\\displaystyle 4 x^{2} + 5 x$"
      ],
      "text/plain": [
       "4*x**2 + 5*x"
      ]
     },
     "metadata": {},
     "output_type": "display_data"
    },
    {
     "data": {
      "text/latex": [
       "$\\displaystyle x \\left(4 x + 5\\right)$"
      ],
      "text/plain": [
       "x*(4*x + 5)"
      ]
     },
     "metadata": {},
     "output_type": "display_data"
    }
   ],
   "source": [
    "x = sym.symbols('x')\n",
    "term1 = (4*x + 5)\n",
    "term2 = x\n",
    "display(sym.expand(term1*term2))\n",
    "display(term1*term2)"
   ]
  },
  {
   "cell_type": "code",
   "execution_count": 11,
   "id": "ac04cd49",
   "metadata": {},
   "outputs": [
    {
     "data": {
      "text/latex": [
       "$\\displaystyle \\left(x - 7\\right) \\left(4 x + 5\\right)$"
      ],
      "text/plain": [
       "(x - 7)*(4*x + 5)"
      ]
     },
     "metadata": {},
     "output_type": "display_data"
    },
    {
     "data": {
      "text/latex": [
       "$\\displaystyle 4 x^{2} - 23 x - 35$"
      ],
      "text/plain": [
       "4*x**2 - 23*x - 35"
      ]
     },
     "metadata": {},
     "output_type": "display_data"
    }
   ],
   "source": [
    "term3 = x-7\n",
    "display(term1*term3)\n",
    "term4 = sym.expand(term1*term3)\n",
    "display(sym.expand(term4))"
   ]
  },
  {
   "cell_type": "code",
   "execution_count": 14,
   "id": "661ec8b2",
   "metadata": {},
   "outputs": [
    {
     "data": {
      "text/latex": [
       "$\\displaystyle - 5^{x} + 2 x y^{2}$"
      ],
      "text/plain": [
       "-5**x + 2*x*y**2"
      ]
     },
     "metadata": {},
     "output_type": "display_data"
    },
    {
     "data": {
      "text/latex": [
       "$\\displaystyle x \\left(- \\frac{5^{x}}{x} + 2 y^{2}\\right)$"
      ],
      "text/plain": [
       "x*(-5**x/x + 2*y**2)"
      ]
     },
     "metadata": {},
     "output_type": "display_data"
    }
   ],
   "source": [
    "y = sym.symbols('y')\n",
    "expr = x*(2*y**2 - 5**x/x)\n",
    "display(sym.expand(expr))\n",
    "display(expr)"
   ]
  },
  {
   "cell_type": "code",
   "execution_count": 15,
   "id": "0480d68a",
   "metadata": {},
   "outputs": [
    {
     "name": "stdout",
     "output_type": "stream",
     "text": [
      "Variable   Type        Data/Info\n",
      "--------------------------------\n",
      "Math       type        <class 'IPython.core.display.Math'>\n",
      "display    function    <function display at 0x0000009E55E56790>\n",
      "expr       Mul         x*(-5**x/x + 2*y**2)\n",
      "sym        module      <module 'sympy' from 'D:\\<...>ges\\\\sympy\\\\__init__.py'>\n",
      "term1      Add         4*x + 5\n",
      "term2      Symbol      x\n",
      "term3      Add         x - 7\n",
      "term4      Add         4*x**2 - 23*x - 35\n",
      "x          Symbol      x\n",
      "y          Symbol      y\n"
     ]
    }
   ],
   "source": [
    "%whos"
   ]
  },
  {
   "cell_type": "code",
   "execution_count": 18,
   "id": "d1d3b2bd",
   "metadata": {},
   "outputs": [
    {
     "name": "stdout",
     "output_type": "stream",
     "text": [
      "When x = 0 and y = 0, f(x, y) = 8\n",
      "When x = 0 and y = 1, f(x, y) = 4\n",
      "When x = 0 and y = 2, f(x, y) = 0\n",
      "When x = 1 and y = 0, f(x, y) = 10\n",
      "When x = 1 and y = 1, f(x, y) = 5\n",
      "When x = 1 and y = 2, f(x, y) = 0\n",
      "When x = 2 and y = 0, f(x, y) = 12\n",
      "When x = 2 and y = 1, f(x, y) = 6\n",
      "When x = 2 and y = 2, f(x, y) = 0\n"
     ]
    }
   ],
   "source": [
    "equation = (4+x)*(2-y)\n",
    "values = [0 ,1 ,2]\n",
    "for i in values:\n",
    "    for j in values:\n",
    "        print(f\"When x = {i} and y = {j}, f(x, y) = {equation.subs({x:i,y:j})}\")"
   ]
  },
  {
   "cell_type": "code",
   "execution_count": null,
   "id": "591155e4",
   "metadata": {},
   "outputs": [],
   "source": []
  }
 ],
 "metadata": {
  "kernelspec": {
   "display_name": "Python 3",
   "language": "python",
   "name": "python3"
  },
  "language_info": {
   "codemirror_mode": {
    "name": "ipython",
    "version": 3
   },
   "file_extension": ".py",
   "mimetype": "text/x-python",
   "name": "python",
   "nbconvert_exporter": "python",
   "pygments_lexer": "ipython3",
   "version": "3.8.8"
  }
 },
 "nbformat": 4,
 "nbformat_minor": 5
}
