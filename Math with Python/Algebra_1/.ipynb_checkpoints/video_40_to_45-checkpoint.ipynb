{
 "cells": [
  {
   "cell_type": "code",
   "execution_count": 2,
   "id": "e7c62871",
   "metadata": {},
   "outputs": [],
   "source": [
    "from IPython.display import display, Math\n",
    "import sympy as sym"
   ]
  },
  {
   "cell_type": "code",
   "execution_count": 3,
   "id": "2fb96b19",
   "metadata": {},
   "outputs": [
    {
     "name": "stdout",
     "output_type": "stream",
     "text": [
      "<class 'list'>\n"
     ]
    }
   ],
   "source": [
    "lst = [1 ,3 ,6 ,9]\n",
    "print(type(lst))"
   ]
  },
  {
   "cell_type": "code",
   "execution_count": 4,
   "id": "c85cb6d9",
   "metadata": {},
   "outputs": [
    {
     "data": {
      "text/plain": [
       "9"
      ]
     },
     "execution_count": 4,
     "metadata": {},
     "output_type": "execute_result"
    }
   ],
   "source": [
    "lst[-1] #end of the list"
   ]
  },
  {
   "cell_type": "code",
   "execution_count": 5,
   "id": "9a977377",
   "metadata": {},
   "outputs": [
    {
     "data": {
      "text/plain": [
       "[1, 3]"
      ]
     },
     "execution_count": 5,
     "metadata": {},
     "output_type": "execute_result"
    }
   ],
   "source": [
    "#slicing\n",
    "lst[:2] #includes 0 and 1"
   ]
  },
  {
   "cell_type": "code",
   "execution_count": 6,
   "id": "7f7b8c43",
   "metadata": {},
   "outputs": [
    {
     "data": {
      "text/plain": [
       "[3, 6]"
      ]
     },
     "execution_count": 6,
     "metadata": {},
     "output_type": "execute_result"
    }
   ],
   "source": [
    "lst[1:3] #indice 1 to indice 2"
   ]
  },
  {
   "cell_type": "code",
   "execution_count": 7,
   "id": "43958aab",
   "metadata": {},
   "outputs": [
    {
     "data": {
      "text/plain": [
       "[6, 9]"
      ]
     },
     "execution_count": 7,
     "metadata": {},
     "output_type": "execute_result"
    }
   ],
   "source": [
    "lst[2:]"
   ]
  },
  {
   "cell_type": "markdown",
   "id": "a1783cb1",
   "metadata": {},
   "source": [
    "# exercise : video 40[implement expression and append in a list]"
   ]
  },
  {
   "cell_type": "code",
   "execution_count": 8,
   "id": "24c60f59",
   "metadata": {},
   "outputs": [],
   "source": [
    "x = sym.symbols(\"x\")"
   ]
  },
  {
   "cell_type": "code",
   "execution_count": 9,
   "id": "22187228",
   "metadata": {},
   "outputs": [
    {
     "data": {
      "text/latex": [
       "$\\displaystyle x \\left(4 - 6 x\\right) + 3 x \\quad \\Longleftrightarrow \\quad x \\left(7 - 6 x\\right)$"
      ],
      "text/plain": [
       "<IPython.core.display.Math object>"
      ]
     },
     "metadata": {},
     "output_type": "display_data"
    },
    {
     "data": {
      "text/latex": [
       "$\\displaystyle - x \\left(\\frac{2}{x} + \\frac{4}{x^{2}}\\right) + \\frac{x + 4}{4 x} \\quad \\Longleftrightarrow \\quad - \\frac{7}{4} - \\frac{3}{x}$"
      ],
      "text/plain": [
       "<IPython.core.display.Math object>"
      ]
     },
     "metadata": {},
     "output_type": "display_data"
    },
    {
     "data": {
      "text/latex": [
       "$\\displaystyle \\frac{\\left(x - 3\\right) \\left(x + 3\\right)}{9} \\quad \\Longleftrightarrow \\quad \\frac{x^{2}}{9} - 1$"
      ],
      "text/plain": [
       "<IPython.core.display.Math object>"
      ]
     },
     "metadata": {},
     "output_type": "display_data"
    }
   ],
   "source": [
    "expr1 = 2*x + x*(4 - 6*x) + x\n",
    "expr2 = -x*(2/x + 4/(x**2)) + (4+x)/(4*x)\n",
    "expr3 = (x+3)*(x-3)*x*(1/(9*x))\n",
    "elist = [expr1 ,expr2 ,expr3]\n",
    "for expr in elist:\n",
    "    display(Math(\"%s \\\\quad \\\\Longleftrightarrow \\\\quad %s\" %(sym.latex(expr) , sym.latex(sym.simplify(expr)))))"
   ]
  },
  {
   "cell_type": "markdown",
   "id": "827c411e",
   "metadata": {},
   "source": [
    "# video 41 : slicing in python"
   ]
  },
  {
   "cell_type": "code",
   "execution_count": 10,
   "id": "f615d58e",
   "metadata": {},
   "outputs": [
    {
     "data": {
      "text/plain": [
       "range"
      ]
     },
     "execution_count": 10,
     "metadata": {},
     "output_type": "execute_result"
    }
   ],
   "source": [
    "vec = range(10 ,21)\n",
    "type(vec)"
   ]
  },
  {
   "cell_type": "code",
   "execution_count": 11,
   "id": "bfe503ad",
   "metadata": {},
   "outputs": [],
   "source": [
    "veclist = list(vec)"
   ]
  },
  {
   "cell_type": "code",
   "execution_count": 12,
   "id": "b092b587",
   "metadata": {},
   "outputs": [
    {
     "name": "stdout",
     "output_type": "stream",
     "text": [
      "[12, 13, 14, 15]\n"
     ]
    }
   ],
   "source": [
    "slicedveclist = veclist[2:6] #this is called slicing, taking copy of a section of list\n",
    "print(slicedveclist)"
   ]
  },
  {
   "cell_type": "code",
   "execution_count": 13,
   "id": "64e4143c",
   "metadata": {},
   "outputs": [
    {
     "data": {
      "text/plain": [
       "[12, 13, 14, 11]"
      ]
     },
     "execution_count": 13,
     "metadata": {},
     "output_type": "execute_result"
    }
   ],
   "source": [
    "slicedveclist[3] = 11\n",
    "slicedveclist"
   ]
  },
  {
   "cell_type": "code",
   "execution_count": 14,
   "id": "77dc2e73",
   "metadata": {},
   "outputs": [
    {
     "data": {
      "text/plain": [
       "[20, 19, 18, 17, 16, 15, 14, 13, 12, 11, 10]"
      ]
     },
     "execution_count": 14,
     "metadata": {},
     "output_type": "execute_result"
    }
   ],
   "source": [
    "veclist[::-1] #iterating backwards in a list"
   ]
  },
  {
   "cell_type": "code",
   "execution_count": 15,
   "id": "f458bf70",
   "metadata": {},
   "outputs": [
    {
     "data": {
      "text/plain": [
       "[15, 14, 13, 12, 11, 10]"
      ]
     },
     "execution_count": 15,
     "metadata": {},
     "output_type": "execute_result"
    }
   ],
   "source": [
    "veclist[5::-1]"
   ]
  },
  {
   "cell_type": "markdown",
   "id": "8f1e0dc5",
   "metadata": {},
   "source": [
    "# video 42 :: GCD"
   ]
  },
  {
   "cell_type": "code",
   "execution_count": 16,
   "id": "015ea024",
   "metadata": {},
   "outputs": [],
   "source": [
    "import math #this part uses math module"
   ]
  },
  {
   "cell_type": "code",
   "execution_count": 17,
   "id": "4603a91a",
   "metadata": {},
   "outputs": [
    {
     "data": {
      "text/plain": [
       "1"
      ]
     },
     "execution_count": 17,
     "metadata": {},
     "output_type": "execute_result"
    }
   ],
   "source": [
    "math.gcd(1 ,34)   #inbuilt function, valid for ints only"
   ]
  },
  {
   "cell_type": "code",
   "execution_count": 18,
   "id": "983a6796",
   "metadata": {},
   "outputs": [
    {
     "data": {
      "text/plain": [
       "4"
      ]
     },
     "execution_count": 18,
     "metadata": {},
     "output_type": "execute_result"
    }
   ],
   "source": [
    "math.gcd(8348 ,24)"
   ]
  },
  {
   "cell_type": "code",
   "execution_count": 19,
   "id": "cda44996",
   "metadata": {},
   "outputs": [
    {
     "data": {
      "text/latex": [
       "$\\displaystyle \\frac{16}{88} = \\frac{2\\times 8}{11\\times 8}$"
      ],
      "text/plain": [
       "<IPython.core.display.Math object>"
      ]
     },
     "metadata": {},
     "output_type": "display_data"
    }
   ],
   "source": [
    "a = 16\n",
    "b = 88\n",
    "\n",
    "fact = math.gcd(a ,b)\n",
    "display(Math(\"\\\\frac{%g}{%g} = \\\\frac{%g\\\\times %g}{%g\\\\times %g}\" %(a ,b ,a/fact ,fact ,b/fact ,fact)))"
   ]
  },
  {
   "cell_type": "markdown",
   "id": "423a3b5c",
   "metadata": {},
   "source": [
    "# video 43 : gcd exercises"
   ]
  },
  {
   "cell_type": "code",
   "execution_count": 20,
   "id": "8b549dbf",
   "metadata": {},
   "outputs": [
    {
     "name": "stdout",
     "output_type": "stream",
     "text": [
      "c\n",
      "c\n"
     ]
    }
   ],
   "source": [
    "a ,b ,c = sym.symbols(\"a b c\")\n",
    "print(sym.gcd(a*c ,b*c))\n",
    "print(c*sym.gcd(a ,b))"
   ]
  },
  {
   "cell_type": "code",
   "execution_count": 21,
   "id": "c554be18",
   "metadata": {},
   "outputs": [],
   "source": [
    "import numpy as np"
   ]
  },
  {
   "cell_type": "code",
   "execution_count": 22,
   "id": "30a62948",
   "metadata": {},
   "outputs": [
    {
     "data": {
      "text/latex": [
       "$\\displaystyle \\left[\\begin{array}99 & 99 & 99 & 99 & 99 & 99 & 99 & 99 & 99 & 99 & 99 & 99 & 99 & 99 & 99\\\\99 & 99 & 99 & 99 & 99 & 99 & 99 & 99 & 99 & 99 & 99 & 99 & 99 & 99 & 99\\\\99 & 99 & 99 & 99 & 99 & 99 & 99 & 99 & 99 & 99 & 99 & 99 & 99 & 99 & 99\\\\99 & 99 & 99 & 99 & 99 & 99 & 99 & 99 & 99 & 99 & 99 & 99 & 99 & 99 & 99\\\\99 & 99 & 99 & 99 & 99 & 99 & 99 & 99 & 99 & 99 & 99 & 99 & 99 & 99 & 99\\\\99 & 99 & 99 & 99 & 99 & 99 & 99 & 99 & 99 & 99 & 99 & 99 & 99 & 99 & 99\\\\99 & 99 & 99 & 99 & 99 & 99 & 99 & 99 & 99 & 99 & 99 & 99 & 99 & 99 & 99\\\\99 & 99 & 99 & 99 & 99 & 99 & 99 & 99 & 99 & 99 & 99 & 99 & 99 & 99 & 99\\\\99 & 99 & 99 & 99 & 99 & 99 & 99 & 99 & 99 & 99 & 99 & 99 & 99 & 99 & 99\\\\99 & 99 & 99 & 99 & 99 & 99 & 99 & 99 & 99 & 99 & 99 & 99 & 99 & 99 & 99\\end{array}\\right]$"
      ],
      "text/plain": [
       "<IPython.core.display.Math object>"
      ]
     },
     "metadata": {},
     "output_type": "display_data"
    }
   ],
   "source": [
    "A = np.full([10 ,15] ,99)\n",
    "display(Math(sym.latex(sym.simplify(A))))\n"
   ]
  },
  {
   "cell_type": "code",
   "execution_count": 23,
   "id": "af815331",
   "metadata": {},
   "outputs": [
    {
     "data": {
      "text/latex": [
       "$\\displaystyle \\left[\\begin{array}1 & 1 & 1 & 1 & 1 & 1 & 1 & 1 & 1 & 1 & 1 & 1 & 1 & 1 & 1\\\\1 & 2 & 1 & 2 & 1 & 2 & 1 & 2 & 1 & 2 & 1 & 2 & 1 & 2 & 1\\\\1 & 1 & 3 & 1 & 1 & 3 & 1 & 1 & 3 & 1 & 1 & 3 & 1 & 1 & 3\\\\1 & 2 & 1 & 4 & 1 & 2 & 1 & 4 & 1 & 2 & 1 & 4 & 1 & 2 & 1\\\\1 & 1 & 1 & 1 & 5 & 1 & 1 & 1 & 1 & 5 & 1 & 1 & 1 & 1 & 5\\\\1 & 2 & 3 & 2 & 1 & 6 & 1 & 2 & 3 & 2 & 1 & 6 & 1 & 2 & 3\\\\1 & 1 & 1 & 1 & 1 & 1 & 7 & 1 & 1 & 1 & 1 & 1 & 1 & 7 & 1\\\\1 & 2 & 1 & 4 & 1 & 2 & 1 & 8 & 1 & 2 & 1 & 4 & 1 & 2 & 1\\\\1 & 1 & 3 & 1 & 1 & 3 & 1 & 1 & 9 & 1 & 1 & 3 & 1 & 1 & 3\\\\1 & 2 & 1 & 2 & 5 & 2 & 1 & 2 & 1 & 10 & 1 & 2 & 1 & 2 & 5\\end{array}\\right]$"
      ],
      "text/plain": [
       "<IPython.core.display.Math object>"
      ]
     },
     "metadata": {},
     "output_type": "display_data"
    }
   ],
   "source": [
    "B = np.copy(A)\n",
    "for i in range(0 ,10):\n",
    "    for j in range(0 ,15):\n",
    "        B[i ,j] = math.gcd(i+1 ,j+1)\n",
    "display(Math(sym.latex(sym.simplify(B))))"
   ]
  },
  {
   "cell_type": "markdown",
   "id": "00687617",
   "metadata": {},
   "source": [
    "# video 44 : dict exercises"
   ]
  },
  {
   "cell_type": "code",
   "execution_count": 24,
   "id": "441ec77d",
   "metadata": {},
   "outputs": [
    {
     "name": "stdout",
     "output_type": "stream",
     "text": [
      "Solutions for equtions involving X:\n"
     ]
    },
    {
     "data": {
      "text/latex": [
       "$\\displaystyle 4 x - 6= 0\\quad \\Rightarrow \\quad X : \\left[ \\frac{3}{2}\\right]$"
      ],
      "text/plain": [
       "<IPython.core.display.Math object>"
      ]
     },
     "metadata": {},
     "output_type": "display_data"
    },
    {
     "data": {
      "text/latex": [
       "$\\displaystyle x^{2} - 9= 0\\quad \\Rightarrow \\quad X : \\left[ -3, \\  3\\right]$"
      ],
      "text/plain": [
       "<IPython.core.display.Math object>"
      ]
     },
     "metadata": {},
     "output_type": "display_data"
    },
    {
     "name": "stdout",
     "output_type": "stream",
     "text": [
      "Solutions for equtions involving Y:\n"
     ]
    },
    {
     "data": {
      "text/latex": [
       "$\\displaystyle \\sin{\\left(y \\right)}= 0\\quad \\Rightarrow \\quad Y : \\left[ 0, \\  \\pi\\right]$"
      ],
      "text/plain": [
       "<IPython.core.display.Math object>"
      ]
     },
     "metadata": {},
     "output_type": "display_data"
    }
   ],
   "source": [
    "x ,y = sym.symbols(\"x y\")\n",
    "D = dict(eX = [4*x - 6 ,x**2 - 9],\n",
    "           eY = [sym.sin(y)])\n",
    "for keyi in D:\n",
    "    print(\"Solutions for equtions involving \" + keyi[1] + \":\")\n",
    "    for eqi in D[keyi]:\n",
    "        leftpart = sym.latex(eqi) + '= 0'\n",
    "        midpart = \"\\\\quad \\\\Rightarrow \\\\quad \" + keyi[1] + \" : \"\n",
    "        rightpart = sym.latex(sym.solve(eqi))\n",
    "        display(Math(leftpart + midpart + rightpart))"
   ]
  },
  {
   "cell_type": "markdown",
   "id": "6decee81",
   "metadata": {},
   "source": [
    "# video 45 : Prime factorization"
   ]
  },
  {
   "cell_type": "code",
   "execution_count": 25,
   "id": "c587b9b4",
   "metadata": {},
   "outputs": [
    {
     "name": "stdout",
     "output_type": "stream",
     "text": [
      "[7]\n"
     ]
    }
   ],
   "source": [
    "number = 7\n",
    "#coumputing prime factors using sym.factorint\n",
    "d = sym.factorint(number)\n",
    "print(list(d))\n",
    "#output is dict, 'val' comes 'key' times in number\n",
    "#list(d) gives list of all values ie all prime factors"
   ]
  },
  {
   "cell_type": "code",
   "execution_count": 29,
   "id": "725fa345",
   "metadata": {},
   "outputs": [
    {
     "name": "stdout",
     "output_type": "stream",
     "text": [
      "2 is a prime number\n",
      "3 is a prime number\n",
      "4 is a composite number with factors : 2\n",
      "5 is a prime number\n",
      "6 is a composite number with factors : 2, 3\n",
      "7 is a prime number\n",
      "8 is a composite number with factors : 2\n",
      "9 is a composite number with factors : 3\n",
      "10 is a composite number with factors : 2, 5\n",
      "11 is a prime number\n",
      "12 is a composite number with factors : 2, 3\n",
      "13 is a prime number\n",
      "14 is a composite number with factors : 2, 7\n",
      "15 is a composite number with factors : 3, 5\n",
      "16 is a composite number with factors : 2\n",
      "17 is a prime number\n",
      "18 is a composite number with factors : 2, 3\n",
      "19 is a prime number\n",
      "20 is a composite number with factors : 2, 5\n",
      "21 is a composite number with factors : 3, 7\n",
      "22 is a composite number with factors : 2, 11\n",
      "23 is a prime number\n",
      "24 is a composite number with factors : 2, 3\n",
      "25 is a composite number with factors : 5\n",
      "26 is a composite number with factors : 2, 13\n",
      "27 is a composite number with factors : 3\n",
      "28 is a composite number with factors : 2, 7\n",
      "29 is a prime number\n",
      "30 is a composite number with factors : 2, 3, 5\n",
      "31 is a prime number\n",
      "32 is a composite number with factors : 2\n",
      "33 is a composite number with factors : 3, 11\n",
      "34 is a composite number with factors : 2, 17\n",
      "35 is a composite number with factors : 5, 7\n",
      "36 is a composite number with factors : 2, 3\n",
      "37 is a prime number\n",
      "38 is a composite number with factors : 2, 19\n",
      "39 is a composite number with factors : 3, 13\n",
      "40 is a composite number with factors : 2, 5\n",
      "41 is a prime number\n",
      "42 is a composite number with factors : 2, 3, 7\n",
      "43 is a prime number\n",
      "44 is a composite number with factors : 2, 11\n",
      "45 is a composite number with factors : 3, 5\n",
      "46 is a composite number with factors : 2, 23\n",
      "47 is a prime number\n",
      "48 is a composite number with factors : 2, 3\n",
      "49 is a composite number with factors : 7\n",
      "50 is a composite number with factors : 2, 5\n"
     ]
    }
   ],
   "source": [
    "qrange  = range(2 ,51)\n",
    "for numi in qrange:\n",
    "    di = sym.factorint(numi)\n",
    "    ks = list(di.keys())\n",
    "    if (len(di) == 1 and di[ks[0]] == 1):\n",
    "        #prime number\n",
    "        print(\"%g is a prime number\" %(numi))\n",
    "    else:\n",
    "        print(\"%g is a composite number with factors : %s\" %(numi ,str(di.keys())[11:-2])) "
   ]
  },
  {
   "cell_type": "code",
   "execution_count": null,
   "id": "f514e9f5",
   "metadata": {},
   "outputs": [],
   "source": []
  },
  {
   "cell_type": "code",
   "execution_count": null,
   "id": "dd22156c",
   "metadata": {},
   "outputs": [],
   "source": []
  }
 ],
 "metadata": {
  "kernelspec": {
   "display_name": "Python 3",
   "language": "python",
   "name": "python3"
  },
  "language_info": {
   "codemirror_mode": {
    "name": "ipython",
    "version": 3
   },
   "file_extension": ".py",
   "mimetype": "text/x-python",
   "name": "python",
   "nbconvert_exporter": "python",
   "pygments_lexer": "ipython3",
   "version": "3.8.8"
  }
 },
 "nbformat": 4,
 "nbformat_minor": 5
}
