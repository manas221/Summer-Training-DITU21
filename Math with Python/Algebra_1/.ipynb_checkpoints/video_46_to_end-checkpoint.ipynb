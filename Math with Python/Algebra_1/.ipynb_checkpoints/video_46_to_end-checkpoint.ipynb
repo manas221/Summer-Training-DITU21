{
 "cells": [
  {
   "cell_type": "code",
   "execution_count": 1,
   "id": "8addc7da",
   "metadata": {},
   "outputs": [],
   "source": [
    "import sympy as sym\n",
    "from IPython.display import display,Math"
   ]
  },
  {
   "cell_type": "code",
   "execution_count": 2,
   "id": "00290f6f",
   "metadata": {},
   "outputs": [
    {
     "data": {
      "text/latex": [
       "$\\displaystyle \\left(-\\infty < x \\wedge x < -3\\right) \\vee \\left(1 < x \\wedge x < \\infty\\right)$"
      ],
      "text/plain": [
       "((-oo < x) & (x < -3)) | ((1 < x) & (x < oo))"
      ]
     },
     "execution_count": 2,
     "metadata": {},
     "output_type": "execute_result"
    }
   ],
   "source": [
    "x = sym.symbols(\"x\")\n",
    "expr = (x-1)*(x+3) > 0\n",
    "sym.solve(expr)"
   ]
  },
  {
   "cell_type": "code",
   "execution_count": 3,
   "id": "73bb444c",
   "metadata": {},
   "outputs": [
    {
     "data": {
      "text/latex": [
       "$\\displaystyle \\frac{22}{17} \\leq x \\wedge x < \\infty$"
      ],
      "text/plain": [
       "(22/17 <= x) & (x < oo)"
      ]
     },
     "execution_count": 3,
     "metadata": {},
     "output_type": "execute_result"
    }
   ],
   "source": [
    "ea = (3*x)/2\n",
    "eb = (4-5*x)/3\n",
    "ec = 2 - (5*(2-x))/4\n",
    "efin = ea + eb <= ec\n",
    "sym.solve(efin)"
   ]
  },
  {
   "cell_type": "markdown",
   "id": "44785f30",
   "metadata": {},
   "source": [
    "# video 47 : adding polynomial"
   ]
  },
  {
   "cell_type": "code",
   "execution_count": 4,
   "id": "4c27018d",
   "metadata": {},
   "outputs": [
    {
     "name": "stdout",
     "output_type": "stream",
     "text": [
      "The degree is even and coeff. sum is 3\n",
      "The degree is odd and coeffs quantity is 2\n",
      "The degree is odd and coeffs quantity is 4\n"
     ]
    }
   ],
   "source": [
    "e1 = x**2 + 2*x\n",
    "e2 = -x**3 + 4*x\n",
    "e3 = x**5 - x**4 +x/4 + 4\n",
    "elist = [sym.poly(e1) ,sym.poly(e2) ,sym.poly(e3)]\n",
    "for poli in elist:\n",
    "    if (poli.degree() % 2 == 0):\n",
    "        #dothis\n",
    "        print(\"The degree is even and coeff. sum is %g\" %(sum(poli.coeffs())))\n",
    "    else:\n",
    "        print(\"The degree is odd and coeffs quantity is %g\" %(len(poli.coeffs())))"
   ]
  },
  {
   "cell_type": "markdown",
   "id": "7d42f5f7",
   "metadata": {},
   "source": [
    "# video 48 : multiplying polynomials"
   ]
  },
  {
   "cell_type": "code",
   "execution_count": 5,
   "id": "6ea72ad8",
   "metadata": {},
   "outputs": [
    {
     "data": {
      "text/latex": [
       "$\\displaystyle \\frac{2152311}{5}$"
      ],
      "text/plain": [
       "2152311/5"
      ]
     },
     "metadata": {},
     "output_type": "display_data"
    }
   ],
   "source": [
    "y = sym.symbols(\"y\")\n",
    "f_xy = sym.poly(4*(x**4) - 3*(x**2) + x*(y**2) - 9*(y**3))\n",
    "g_xy = sym.poly(-(x**3) + 6*(x**2)*y + 4*(y**3)/5)\n",
    "fin = f_xy*g_xy\n",
    "display(fin.subs({x:5 ,y:2}))"
   ]
  },
  {
   "cell_type": "markdown",
   "id": "27954a46",
   "metadata": {},
   "source": [
    "# video 49 : dividing polynomials"
   ]
  },
  {
   "cell_type": "code",
   "execution_count": 6,
   "id": "2d743f76",
   "metadata": {},
   "outputs": [
    {
     "data": {
      "text/plain": [
       "(3, 4)"
      ]
     },
     "execution_count": 6,
     "metadata": {},
     "output_type": "execute_result"
    }
   ],
   "source": [
    "f = sym.sympify(3)/4\n",
    "finfo = sym.fraction(f)\n",
    "finfo"
   ]
  },
  {
   "cell_type": "code",
   "execution_count": 7,
   "id": "791c2f4f",
   "metadata": {},
   "outputs": [
    {
     "data": {
      "text/latex": [
       "$\\displaystyle \\frac{x^{6} + 2 x^{4} + 6 x - 5}{x^{3} + 3} = \\frac{x^{6} + 2 x^{4} + 6 x - 5}{x^{3} + 3}$"
      ],
      "text/plain": [
       "<IPython.core.display.Math object>"
      ]
     },
     "metadata": {},
     "output_type": "display_data"
    },
    {
     "data": {
      "text/latex": [
       "$\\displaystyle \\frac{x^{6} + 2 x^{4} + 6 x - 6}{x^{3} + 3} = \\frac{x^{6} + 2 x^{4} + 6 x - 6}{x^{3} + 3}$"
      ],
      "text/plain": [
       "<IPython.core.display.Math object>"
      ]
     },
     "metadata": {},
     "output_type": "display_data"
    },
    {
     "data": {
      "text/latex": [
       "$\\displaystyle \\frac{x^{6} + 2 x^{4} + 6 x - 7}{x^{3} + 3} = \\frac{x^{6} + 2 x^{4} + 6 x - 7}{x^{3} + 3}$"
      ],
      "text/plain": [
       "<IPython.core.display.Math object>"
      ]
     },
     "metadata": {},
     "output_type": "display_data"
    },
    {
     "data": {
      "text/latex": [
       "$\\displaystyle \\frac{x^{6} + 2 x^{4} + 6 x - 8}{x^{3} + 3} = \\frac{x^{6} + 2 x^{4} + 6 x - 8}{x^{3} + 3}$"
      ],
      "text/plain": [
       "<IPython.core.display.Math object>"
      ]
     },
     "metadata": {},
     "output_type": "display_data"
    },
    {
     "data": {
      "text/latex": [
       "$\\displaystyle \\frac{x^{6} + 2 x^{4} + 6 x - 9}{x^{3} + 3} = x^{3} + 2 x - 3$"
      ],
      "text/plain": [
       "<IPython.core.display.Math object>"
      ]
     },
     "metadata": {},
     "output_type": "display_data"
    },
    {
     "data": {
      "text/latex": [
       "$\\displaystyle \\frac{x^{6} + 2 x^{4} + 6 x - 10}{x^{3} + 3} = \\frac{x^{6} + 2 x^{4} + 6 x - 10}{x^{3} + 3}$"
      ],
      "text/plain": [
       "<IPython.core.display.Math object>"
      ]
     },
     "metadata": {},
     "output_type": "display_data"
    },
    {
     "data": {
      "text/latex": [
       "$\\displaystyle \\frac{x^{6} + 2 x^{4} + 6 x - 11}{x^{3} + 3} = \\frac{x^{6} + 2 x^{4} + 6 x - 11}{x^{3} + 3}$"
      ],
      "text/plain": [
       "<IPython.core.display.Math object>"
      ]
     },
     "metadata": {},
     "output_type": "display_data"
    },
    {
     "data": {
      "text/latex": [
       "$\\displaystyle \\frac{x^{6} + 2 x^{4} + 6 x - 12}{x^{3} + 3} = \\frac{x^{6} + 2 x^{4} + 6 x - 12}{x^{3} + 3}$"
      ],
      "text/plain": [
       "<IPython.core.display.Math object>"
      ]
     },
     "metadata": {},
     "output_type": "display_data"
    },
    {
     "data": {
      "text/latex": [
       "$\\displaystyle \\frac{x^{6} + 2 x^{4} + 6 x - 13}{x^{3} + 3} = \\frac{x^{6} + 2 x^{4} + 6 x - 13}{x^{3} + 3}$"
      ],
      "text/plain": [
       "<IPython.core.display.Math object>"
      ]
     },
     "metadata": {},
     "output_type": "display_data"
    },
    {
     "data": {
      "text/latex": [
       "$\\displaystyle \\frac{x^{6} + 2 x^{4} + 6 x - 14}{x^{3} + 3} = \\frac{x^{6} + 2 x^{4} + 6 x - 14}{x^{3} + 3}$"
      ],
      "text/plain": [
       "<IPython.core.display.Math object>"
      ]
     },
     "metadata": {},
     "output_type": "display_data"
    },
    {
     "data": {
      "text/latex": [
       "$\\displaystyle \\frac{x^{6} + 2 x^{4} + 6 x - 15}{x^{3} + 3} = \\frac{x^{6} + 2 x^{4} + 6 x - 15}{x^{3} + 3}$"
      ],
      "text/plain": [
       "<IPython.core.display.Math object>"
      ]
     },
     "metadata": {},
     "output_type": "display_data"
    },
    {
     "data": {
      "text/latex": [
       "$\\displaystyle \\text{Correct answer = } 0$"
      ],
      "text/plain": [
       "<IPython.core.display.Math object>"
      ]
     },
     "metadata": {},
     "output_type": "display_data"
    }
   ],
   "source": [
    "pNum = x**6 + 2*x**4 + 6*x + - y\n",
    "pDen = x**3 + 3\n",
    "rightanswer = 0\n",
    "for yi in range(5 ,16):\n",
    "    tempnum = pNum.subs(y ,yi)\n",
    "    display(Math(\"%s = %s\" %(sym.latex(tempnum/pDen) ,sym.latex(sym.simplify(tempnum/pDen)))))\n",
    "    \n",
    "    if sym.fraction(sym.simplify((tempnum/pDen))) == 1:\n",
    "        rightanswer = yi\n",
    "display(Math(\"\\\\text{Correct answer = } %s\" %str(rightanswer)))"
   ]
  },
  {
   "cell_type": "code",
   "execution_count": 10,
   "id": "5f3a506c",
   "metadata": {},
   "outputs": [
    {
     "data": {
      "text/latex": [
       "$\\displaystyle x^{2} + 4 x - 4$"
      ],
      "text/plain": [
       "x**2 + 4*x - 4"
      ]
     },
     "execution_count": 10,
     "metadata": {},
     "output_type": "execute_result"
    }
   ],
   "source": [
    "p = x**2 + 4*x - 4\n",
    "sym.factor(p)"
   ]
  },
  {
   "cell_type": "code",
   "execution_count": 15,
   "id": "30a0c523",
   "metadata": {},
   "outputs": [
    {
     "data": {
      "text/latex": [
       "$\\displaystyle 2 x \\left(x^{2} y + x y + x + 3 y + 3\\right)$"
      ],
      "text/plain": [
       "2*x*(x**2*y + x*y + x + 3*y + 3)"
      ]
     },
     "execution_count": 15,
     "metadata": {},
     "output_type": "execute_result"
    }
   ],
   "source": [
    "expr = 2*(x**3)*y + 2*(x**2) + 2*(x**2)*y + 6*x*y + 6*x\n",
    "sym.factor(expr)"
   ]
  },
  {
   "cell_type": "code",
   "execution_count": 36,
   "id": "3880ca89",
   "metadata": {},
   "outputs": [
    {
     "data": {
      "text/latex": [
       "$\\displaystyle x^{2} + 4 x + 3 \\quad \\Rightarrow \\quad \\left(x + 1\\right) \\left(x + 3\\right)$"
      ],
      "text/plain": [
       "<IPython.core.display.Math object>"
      ]
     },
     "metadata": {},
     "output_type": "display_data"
    },
    {
     "data": {
      "text/latex": [
       "$\\displaystyle 2 y^{2} - 1 \\quad \\Rightarrow \\quad \\text{not factorable!!}$"
      ],
      "text/plain": [
       "<IPython.core.display.Math object>"
      ]
     },
     "metadata": {},
     "output_type": "display_data"
    },
    {
     "data": {
      "text/latex": [
       "$\\displaystyle 3 y^{2} + 12 y \\quad \\Rightarrow \\quad 3 y \\left(y + 4\\right)$"
      ],
      "text/plain": [
       "<IPython.core.display.Math object>"
      ]
     },
     "metadata": {},
     "output_type": "display_data"
    }
   ],
   "source": [
    "exlist = [x**2 + 4*x + 3 ,2*(y**2) - 1 ,3*(y**2) + 12*y]\n",
    "for ex in exlist:\n",
    "    if (ex == sym.factor(ex)):\n",
    "        display(Math(\"%s \\\\quad \\\\Rightarrow \\\\quad \\\\text{not factorable!!}\" %(sym.latex(ex) )))\n",
    "    else:\n",
    "        display(Math(\"%s \\\\quad \\\\Rightarrow \\\\quad %s\" %(sym.latex(ex) ,sym.latex(sym.factor(ex)))))"
   ]
  },
  {
   "cell_type": "code",
   "execution_count": null,
   "id": "7798a2bf",
   "metadata": {},
   "outputs": [],
   "source": []
  },
  {
   "cell_type": "code",
   "execution_count": null,
   "id": "b74b3737",
   "metadata": {},
   "outputs": [],
   "source": []
  }
 ],
 "metadata": {
  "kernelspec": {
   "display_name": "Python 3",
   "language": "python",
   "name": "python3"
  },
  "language_info": {
   "codemirror_mode": {
    "name": "ipython",
    "version": 3
   },
   "file_extension": ".py",
   "mimetype": "text/x-python",
   "name": "python",
   "nbconvert_exporter": "python",
   "pygments_lexer": "ipython3",
   "version": "3.8.8"
  }
 },
 "nbformat": 4,
 "nbformat_minor": 5
}
